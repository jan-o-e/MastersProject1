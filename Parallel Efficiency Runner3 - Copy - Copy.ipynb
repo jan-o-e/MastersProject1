{
 "cells": [
  {
   "cell_type": "code",
   "execution_count": null,
   "metadata": {},
   "outputs": [],
   "source": [
    "from qutip import *\n",
    "import numpy as np\n",
    "import scipy.optimize as sciop\n",
    "import matplotlib.pyplot as plt\n",
    "import cython\n",
    "import skopt\n",
    "\n",
    "# define idealised basis\n",
    "basis_labels = {\n",
    "    'cav_bin': 0,\n",
    "    'spont_bin': 1,\n",
    "    'g':2,\n",
    "    'u':3,\n",
    "    'x':4\n",
    "}\n",
    "N=len(basis_labels)\n",
    "\n",
    "g_ket = basis(N, basis_labels['g'])\n",
    "u_ket = basis(N, basis_labels['u'])\n",
    "x_ket = basis(N, basis_labels['x'])\n",
    "\n",
    "# define basic operators\n",
    "gx_swap = basis(N, basis_labels['g']) * basis(N, basis_labels['x']).dag()\n",
    "ux_swap = basis(N, basis_labels['u']) * basis(N, basis_labels['x']).dag()\n",
    "\n",
    "g_id = fock_dm(N, basis_labels['g'])\n",
    "u_id = fock_dm(N, basis_labels['u'])\n",
    "x_id = fock_dm(N, basis_labels['x'])\n",
    "cav_id = fock_dm(N, basis_labels['cav_bin'])\n",
    "spont_id = fock_dm(N, basis_labels['spont_bin'])\n",
    "\n",
    "cav_decay = basis(N, basis_labels['cav_bin']) * basis(N, basis_labels['g']).dag()\n",
    "spont_decay = basis(N, basis_labels['spont_bin']) * basis(N, basis_labels['x']).dag()"
   ]
  },
  {
   "cell_type": "code",
   "execution_count": null,
   "metadata": {},
   "outputs": [],
   "source": [
    "gamma = 2*np.pi\n",
    "kappa = gamma*1\n",
    "\n",
    "coops = [1,1.5,2,2.5,3,3.5,4,5,8,10,15,17,20,30,40,50,80,100,120, 130, 140,150, 170, 190, 210]\n",
    "# omg_guesses = [5,10,40,45,60,21,25,33,36,46.8,46.4,51.3,67.7,96.7,108.8,122.7]\n",
    "kappas = [0.1,0.2,0.3,0.4,0.5,0.6,0.7,0.8,0.9,1,2,3,4,5,6,7,8,9,10,20,30,40,50,60,70,80,90,100]\n",
    "\n",
    "\n",
    "RUNTIME = 10/gamma\n",
    "STEPS_PER_SEC = 1000\n",
    "NUM_STEPS = round(STEPS_PER_SEC*RUNTIME + 1)\n",
    "if type(RUNTIME) == float:\n",
    "    if RUNTIME < 1:\n",
    "        lin_factor = 1/RUNTIME\n",
    "        RUNTIME = lin_factor*RUNTIME\n",
    "    else:\n",
    "        lin_factor = 10\n",
    "        RUNTIME = np.ceil(RUNTIME*10)\n",
    "else:\n",
    "    lin_factor = 1\n",
    "t = np.linspace(0, int(RUNTIME), NUM_STEPS)\n",
    "t /= lin_factor"
   ]
  },
  {
   "cell_type": "code",
   "execution_count": null,
   "metadata": {},
   "outputs": [],
   "source": [
    "a_0 = 7938/18608\n",
    "a_1 = 9240/18608\n",
    "a_2 = 1430/18608\n",
    "T = RUNTIME\n",
    "\n",
    "# define pulse shape\n",
    "wSTIRAP = np.pi/RUNTIME\n",
    "H_args = {\n",
    "    'wSTIRAP': wSTIRAP,\n",
    "    'a0': a_0,\n",
    "    'a1': a_1,\n",
    "    'a2': a_2,\n",
    "    'T': T\n",
    "}\n",
    "\n",
    "sin_pulse = 'omega*np.sin(wSTIRAP*t)**2'\n",
    "blackman = 'omega*(a0 - a1*np.cos(2*pi*t/T) + a2*np.cos(4*pi*t/T))'\n",
    "\n",
    "opts = Options(rhs_reuse=True)"
   ]
  },
  {
   "cell_type": "code",
   "execution_count": null,
   "metadata": {},
   "outputs": [],
   "source": [
    "omega_guess_old = [97.1, 96.8,96.3, 96, 95.6, 94.9, 94.3, 92.7, 92, 91.4, 91.9, 93.6, 99, 106.9, 128, 148.5, 231.8, 290.2, 340,350, 360, 413.9]\n",
    "omega_guess = []\n",
    "for guess in omega_guess_old:\n",
    "    omega_guess.append(guess+2200)\n",
    "omega_guess += [3000]*3\n",
    "current_kappa = 1"
   ]
  },
  {
   "cell_type": "code",
   "execution_count": null,
   "metadata": {},
   "outputs": [],
   "source": [
    "def find_efficiency(omega, delta, cooperativity, kappa_ratio, psi0=u_ket, pulse_shape=sin_pulse):\n",
    "\n",
    "    omega *= 2*np.pi\n",
    "    delta *= 2*np.pi\n",
    "    kappa = kappa_ratio * gamma\n",
    "    H_args['omega'] = omega\n",
    "    \n",
    "    global current_kappa\n",
    "\n",
    "    if kappa != current_kappa:\n",
    "        opts.rhs_reuse = False\n",
    "        current_kappa = kappa\n",
    "\n",
    "    g0 = (2*kappa*gamma*cooperativity)**0.5\n",
    "\n",
    "    H0 = delta*g_id + delta*u_id - g0*(gx_swap + gx_swap.dag())\n",
    "    H1 = -1/2*(ux_swap + ux_swap.dag())\n",
    "    H=[H0, [H1, pulse_shape]]\n",
    "\n",
    "    c_ops = [np.sqrt(gamma)*spont_decay, np.sqrt(kappa)*cav_decay]\n",
    "\n",
    "    result = mesolve(H, psi0, t, c_ops, [], args=H_args, options=opts)\n",
    "    \n",
    "    photon_emission_prob = expect(cav_id, result.states[-1])\n",
    "\n",
    "    opts.rhs_reuse = True\n",
    "\n",
    "    if photon_emission_prob > 1e-7:\n",
    "        return photon_emission_prob\n",
    "    else:\n",
    "        return 0\n"
   ]
  },
  {
   "cell_type": "code",
   "execution_count": null,
   "metadata": {},
   "outputs": [],
   "source": [
    "max_delta = 20\n",
    "omg_factor = 5\n",
    "min_omg_factor = 0\n",
    "max_omg_test = 1.5e4\n",
    "\n",
    "def optimise_peak_rabi(cooperativity, omega_guess, delta):\n",
    "    delta *= 2*np.pi\n",
    "\n",
    "    def find_neg_efficiency(omega_delta, psi0=u_ket, pulse_shape=sin_pulse):\n",
    "\n",
    "        omg = omega_delta[0]*2*np.pi\n",
    "\n",
    "        g0 = (2*kappa*gamma*cooperativity)**0.5\n",
    "\n",
    "        H0 = delta*g_id + delta*u_id - g0*(gx_swap + gx_swap.dag())\n",
    "        H1 = -omg/2*(ux_swap + ux_swap.dag())\n",
    "        H=[H0, [H1, pulse_shape]]\n",
    "\n",
    "        result = mesolve(H, psi0, t, c_ops, [], args=H_args)\n",
    "\n",
    "        photon_emission_prob = expect(cav_id, result.states[-1])\n",
    "        spont_decay_prob = expect(spont_id, result.states[-1])\n",
    "\n",
    "        if photon_emission_prob + spont_decay_prob > 1e-7:\n",
    "\n",
    "            return -photon_emission_prob/(photon_emission_prob + spont_decay_prob)\n",
    "        else:\n",
    "            return 0\n",
    "    \n",
    "    return skopt.gp_minimize(find_neg_efficiency, [[omega_guess*min_omg_factor, max_omg]],x0=[omega_guess], n_calls=30)\n",
    "\n",
    "\n",
    "def optimise_peak_rabi_delta(inputs):\n",
    "    cooperativity = inputs[0]\n",
    "    omega_guess = inputs[1]\n",
    "    delta_guess = inputs[2]\n",
    "    kappa_ratio = inputs[3]\n",
    "\n",
    "    def find_neg_efficiency(omega_delta, psi0=u_ket, pulse_shape=sin_pulse):\n",
    "        omega = 2*np.pi * omega_delta[0]\n",
    "        delta = 2*np.pi * omega_delta[1]\n",
    "        kappa = kappa_ratio * gamma\n",
    "        H_args['omega'] = omega\n",
    "        \n",
    "        global current_kappa\n",
    "\n",
    "        if kappa != current_kappa:\n",
    "            opts.rhs_reuse = False\n",
    "            current_kappa = kappa\n",
    "\n",
    "        g0 = (2*kappa*gamma*cooperativity)**0.5\n",
    "\n",
    "        H0 = delta*g_id + delta*u_id - g0*(gx_swap + gx_swap.dag())\n",
    "        H1 = -1/2*(ux_swap + ux_swap.dag())\n",
    "        H=[H0, [H1, pulse_shape]]\n",
    "\n",
    "        c_ops = [np.sqrt(gamma)*spont_decay, np.sqrt(kappa)*cav_decay]\n",
    "\n",
    "        result = mesolve(H, psi0, t, c_ops, [], args=H_args, options=opts)\n",
    "        \n",
    "        photon_emission_prob = expect(cav_id, result.states[-1])\n",
    "\n",
    "        opts.rhs_reuse = True\n",
    "\n",
    "        if photon_emission_prob > 1e-7:\n",
    "            return -photon_emission_prob\n",
    "        else:\n",
    "            return 0\n",
    "\n",
    "    max_omg = omg_factor*omega_guess\n",
    "    \n",
    "    return skopt.gp_minimize(find_neg_efficiency, [[omega_guess*min_omg_factor, max_omg], [0, max_delta]],x0=[omega_guess, delta_guess], n_calls=100)"
   ]
  },
  {
   "cell_type": "code",
   "execution_count": null,
   "metadata": {},
   "outputs": [],
   "source": [
    "def new_optimise_peak_rabi_delta(input):\n",
    "   \n",
    "    kappa_ratio = input[3]\n",
    "    delta = input[2]\n",
    "    omega_0 = input[1]\n",
    "    cooperativity = input[0]\n",
    "\n",
    "    resolution_levels = [50, 10, 5, 1, 0.5, 0.1]\n",
    "\n",
    "    initial_eff = find_efficiency(omega_0, delta, cooperativity, kappa_ratio)\n",
    "\n",
    "    for res in resolution_levels:\n",
    "        finished = False\n",
    "        new_step = 0\n",
    "        while not finished:\n",
    "    \n",
    "\n",
    "            if new_step == 0:\n",
    "                temp_effs = [initial_eff, find_efficiency(omega_0-res, delta, cooperativity, kappa_ratio), find_efficiency(omega_0+res, delta, cooperativity, kappa_ratio)]\n",
    "            elif new_step == 1:\n",
    "                temp_effs = [initial_eff, temp_effs[0], find_efficiency(omega_0+res, delta, cooperativity, kappa_ratio)]\n",
    "            else:\n",
    "                temp_effs = [initial_eff, find_efficiency(omega_0-res, delta, cooperativity, kappa_ratio), temp_effs[0]]\n",
    "           \n",
    "\n",
    "            if np.argmax(temp_effs) == 0:\n",
    "                finished = True\n",
    "            elif np.argmax(temp_effs) == 1 and temp_effs[1] > temp_effs[2]:\n",
    "                \n",
    "                omega_0 -= res\n",
    "                new_step = -1\n",
    "            else:\n",
    "                \n",
    "                omega_0 += res\n",
    "                new_step = 1\n",
    "            \n",
    "            initial_eff = max(temp_effs)\n",
    "    \n",
    "    if omega_0 < 0:\n",
    "        omega_0*=-1\n",
    "\n",
    "    return [omega_0, initial_eff]\n"
   ]
  },
  {
   "cell_type": "code",
   "execution_count": null,
   "metadata": {},
   "outputs": [],
   "source": [
    "def combined_optimise_peak_rabi_delta(inputs):\n",
    "    cooperativity = inputs[0]\n",
    "    omega_guess = inputs[1]\n",
    "    delta_guess = inputs[2]\n",
    "    kappa_ratio = inputs[3]\n",
    "\n",
    "    bayesian_op_data = optimise_peak_rabi_delta(inputs)\n",
    "    bayesian_omg, bayesian_delt = bayesian_op_data.x\n",
    "\n",
    "    opt_omg, opt_eff= new_optimise_peak_rabi_delta([cooperativity, bayesian_omg, bayesian_delt, kappa_ratio])\n",
    "\n",
    "    return [opt_omg, bayesian_delt, opt_eff]\n",
    "    "
   ]
  },
  {
   "cell_type": "code",
   "execution_count": null,
   "metadata": {},
   "outputs": [
    {
     "name": "stderr",
     "output_type": "stream",
     "text": [
      " 64%|██████▍   | 16/25 [10:47<06:48, 45.42s/it]"
     ]
    }
   ],
   "source": [
    "import multiprocessing\n",
    "from joblib import Parallel, delayed\n",
    "from tqdm import tqdm\n",
    "\n",
    "num_cores = multiprocessing.cpu_count()\n",
    "\n",
    "\n",
    "input_args = []\n",
    "for j in range(len(kappas)):\n",
    "    sub_input_args = [[coops[k], omega_guess[k], 0, kappas[j]] for k in range(len(coops))]\n",
    "    input_args.append(sub_input_args)\n",
    "\n",
    "output_list = []\n",
    "first_run = True\n",
    "for input_set in input_args:\n",
    "    if not first_run:\n",
    "        for k in range(len(input_set)):\n",
    "            input_set[k][1] = processed_list[k][0]\n",
    "    if __name__ == \"__main__\":\n",
    "        inputs = tqdm(input_set)\n",
    "        processed_list = Parallel(n_jobs=num_cores)(delayed(combined_optimise_peak_rabi_delta)(i) for i in inputs)\n",
    "        output_list.append(processed_list)\n",
    "    first_run = False\n"
   ]
  },
  {
   "cell_type": "code",
   "execution_count": null,
   "metadata": {},
   "outputs": [
    {
     "ename": "ValueError",
     "evalue": "x and y must have same first dimension, but have shapes (37,) and (27,)",
     "output_type": "error",
     "traceback": [
      "\u001b[1;31m---------------------------------------------------------------------------\u001b[0m",
      "\u001b[1;31mValueError\u001b[0m                                Traceback (most recent call last)",
      "\u001b[1;32m~\\AppData\\Local\\Temp/ipykernel_25960/787876533.py\u001b[0m in \u001b[0;36m<module>\u001b[1;34m\u001b[0m\n\u001b[0;32m      9\u001b[0m     \u001b[0mk\u001b[0m\u001b[1;33m+=\u001b[0m\u001b[1;36m1\u001b[0m\u001b[1;33m\u001b[0m\u001b[1;33m\u001b[0m\u001b[0m\n\u001b[0;32m     10\u001b[0m \u001b[1;33m\u001b[0m\u001b[0m\n\u001b[1;32m---> 11\u001b[1;33m     \u001b[0maxes\u001b[0m\u001b[1;33m.\u001b[0m\u001b[0mplot\u001b[0m\u001b[1;33m(\u001b[0m\u001b[0mcoops\u001b[0m\u001b[1;33m,\u001b[0m \u001b[0msub_effs\u001b[0m\u001b[1;33m)\u001b[0m\u001b[1;33m\u001b[0m\u001b[1;33m\u001b[0m\u001b[0m\n\u001b[0m\u001b[0;32m     12\u001b[0m \u001b[1;33m\u001b[0m\u001b[0m\n\u001b[0;32m     13\u001b[0m \u001b[1;33m\u001b[0m\u001b[0m\n",
      "\u001b[1;32m~\\AppData\\Roaming\\Python\\Python39\\site-packages\\matplotlib\\axes\\_axes.py\u001b[0m in \u001b[0;36mplot\u001b[1;34m(self, scalex, scaley, data, *args, **kwargs)\u001b[0m\n\u001b[0;32m   1666\u001b[0m         \"\"\"\n\u001b[0;32m   1667\u001b[0m         \u001b[0mkwargs\u001b[0m \u001b[1;33m=\u001b[0m \u001b[0mcbook\u001b[0m\u001b[1;33m.\u001b[0m\u001b[0mnormalize_kwargs\u001b[0m\u001b[1;33m(\u001b[0m\u001b[0mkwargs\u001b[0m\u001b[1;33m,\u001b[0m \u001b[0mmlines\u001b[0m\u001b[1;33m.\u001b[0m\u001b[0mLine2D\u001b[0m\u001b[1;33m)\u001b[0m\u001b[1;33m\u001b[0m\u001b[1;33m\u001b[0m\u001b[0m\n\u001b[1;32m-> 1668\u001b[1;33m         \u001b[0mlines\u001b[0m \u001b[1;33m=\u001b[0m \u001b[1;33m[\u001b[0m\u001b[1;33m*\u001b[0m\u001b[0mself\u001b[0m\u001b[1;33m.\u001b[0m\u001b[0m_get_lines\u001b[0m\u001b[1;33m(\u001b[0m\u001b[1;33m*\u001b[0m\u001b[0margs\u001b[0m\u001b[1;33m,\u001b[0m \u001b[0mdata\u001b[0m\u001b[1;33m=\u001b[0m\u001b[0mdata\u001b[0m\u001b[1;33m,\u001b[0m \u001b[1;33m**\u001b[0m\u001b[0mkwargs\u001b[0m\u001b[1;33m)\u001b[0m\u001b[1;33m]\u001b[0m\u001b[1;33m\u001b[0m\u001b[1;33m\u001b[0m\u001b[0m\n\u001b[0m\u001b[0;32m   1669\u001b[0m         \u001b[1;32mfor\u001b[0m \u001b[0mline\u001b[0m \u001b[1;32min\u001b[0m \u001b[0mlines\u001b[0m\u001b[1;33m:\u001b[0m\u001b[1;33m\u001b[0m\u001b[1;33m\u001b[0m\u001b[0m\n\u001b[0;32m   1670\u001b[0m             \u001b[0mself\u001b[0m\u001b[1;33m.\u001b[0m\u001b[0madd_line\u001b[0m\u001b[1;33m(\u001b[0m\u001b[0mline\u001b[0m\u001b[1;33m)\u001b[0m\u001b[1;33m\u001b[0m\u001b[1;33m\u001b[0m\u001b[0m\n",
      "\u001b[1;32m~\\AppData\\Roaming\\Python\\Python39\\site-packages\\matplotlib\\axes\\_base.py\u001b[0m in \u001b[0;36m__call__\u001b[1;34m(self, data, *args, **kwargs)\u001b[0m\n\u001b[0;32m    309\u001b[0m                 \u001b[0mthis\u001b[0m \u001b[1;33m+=\u001b[0m \u001b[0margs\u001b[0m\u001b[1;33m[\u001b[0m\u001b[1;36m0\u001b[0m\u001b[1;33m]\u001b[0m\u001b[1;33m,\u001b[0m\u001b[1;33m\u001b[0m\u001b[1;33m\u001b[0m\u001b[0m\n\u001b[0;32m    310\u001b[0m                 \u001b[0margs\u001b[0m \u001b[1;33m=\u001b[0m \u001b[0margs\u001b[0m\u001b[1;33m[\u001b[0m\u001b[1;36m1\u001b[0m\u001b[1;33m:\u001b[0m\u001b[1;33m]\u001b[0m\u001b[1;33m\u001b[0m\u001b[1;33m\u001b[0m\u001b[0m\n\u001b[1;32m--> 311\u001b[1;33m             yield from self._plot_args(\n\u001b[0m\u001b[0;32m    312\u001b[0m                 this, kwargs, ambiguous_fmt_datakey=ambiguous_fmt_datakey)\n\u001b[0;32m    313\u001b[0m \u001b[1;33m\u001b[0m\u001b[0m\n",
      "\u001b[1;32m~\\AppData\\Roaming\\Python\\Python39\\site-packages\\matplotlib\\axes\\_base.py\u001b[0m in \u001b[0;36m_plot_args\u001b[1;34m(self, tup, kwargs, return_kwargs, ambiguous_fmt_datakey)\u001b[0m\n\u001b[0;32m    502\u001b[0m \u001b[1;33m\u001b[0m\u001b[0m\n\u001b[0;32m    503\u001b[0m         \u001b[1;32mif\u001b[0m \u001b[0mx\u001b[0m\u001b[1;33m.\u001b[0m\u001b[0mshape\u001b[0m\u001b[1;33m[\u001b[0m\u001b[1;36m0\u001b[0m\u001b[1;33m]\u001b[0m \u001b[1;33m!=\u001b[0m \u001b[0my\u001b[0m\u001b[1;33m.\u001b[0m\u001b[0mshape\u001b[0m\u001b[1;33m[\u001b[0m\u001b[1;36m0\u001b[0m\u001b[1;33m]\u001b[0m\u001b[1;33m:\u001b[0m\u001b[1;33m\u001b[0m\u001b[1;33m\u001b[0m\u001b[0m\n\u001b[1;32m--> 504\u001b[1;33m             raise ValueError(f\"x and y must have same first dimension, but \"\n\u001b[0m\u001b[0;32m    505\u001b[0m                              f\"have shapes {x.shape} and {y.shape}\")\n\u001b[0;32m    506\u001b[0m         \u001b[1;32mif\u001b[0m \u001b[0mx\u001b[0m\u001b[1;33m.\u001b[0m\u001b[0mndim\u001b[0m \u001b[1;33m>\u001b[0m \u001b[1;36m2\u001b[0m \u001b[1;32mor\u001b[0m \u001b[0my\u001b[0m\u001b[1;33m.\u001b[0m\u001b[0mndim\u001b[0m \u001b[1;33m>\u001b[0m \u001b[1;36m2\u001b[0m\u001b[1;33m:\u001b[0m\u001b[1;33m\u001b[0m\u001b[1;33m\u001b[0m\u001b[0m\n",
      "\u001b[1;31mValueError\u001b[0m: x and y must have same first dimension, but have shapes (37,) and (27,)"
     ]
    },
    {
     "data": {
      "image/png": "[encoded data removed]",
      "text/plain": [
       "<Figure size 432x288 with 1 Axes>"
      ]
     },
     "metadata": {
      "needs_background": "light"
     },
     "output_type": "display_data"
    }
   ],
   "source": [
    "fig, axes = plt.subplots(1,1)\n",
    "k=0\n",
    "for data_set in output_list:\n",
    "    sub_omgs = [data[0] for data in data_set]\n",
    "    sub_delts = [data[1] for data in data_set]\n",
    "    sub_effs = [data[2] for data in data_set]\n",
    "    np.savetxt(f'sin^2 2D, gamma=2pi, t=10gamma^-1, kappa_ratio = {kappas[k]}.gz', data_set)\n",
    "    k+=1\n",
    "    \n",
    "    axes.plot(coops, sub_effs)\n",
    "\n",
    "\n",
    "axes.plot(coops, [2*C/(2*C+1) for C in coops], 'k--', label='Benchmark')\n",
    "axes.set_xscale('log')\n",
    "axes.set_yscale('log')\n",
    "fig.legend()"
   ]
  },
  {
   "cell_type": "code",
   "execution_count": null,
   "metadata": {},
   "outputs": [
    {
     "data": {
      "text/plain": [
       "Text(0.5, 1.0, '$\\\\gamma=2\\\\pi$, $\\\\sin^2$ pulse, t=10/$\\\\gamma$')"
      ]
     },
     "execution_count": 33,
     "metadata": {},
     "output_type": "execute_result"
    },
    {
     "data": {
      "image/png": "[encoded data removed]",
      "text/plain": [
       "<Figure size 432x288 with 2 Axes>"
      ]
     },
     "metadata": {
      "needs_background": "light"
     },
     "output_type": "display_data"
    }
   ],
   "source": [
    "grand_efficiencies = []\n",
    "for data_set in output_list:\n",
    "    efficiencies = [data[2] for data in data_set]\n",
    "    grand_efficiencies.append(efficiencies)\n",
    "\n",
    "X, Y = np.meshgrid(coops, kappas)\n",
    "\n",
    "fig, axes = plt.subplots(1,1)\n",
    "cp = axes.contourf(X,Y, grand_efficiencies, levels = 20)\n",
    "axes.set_xscale('log')\n",
    "axes.set_yscale('log')\n",
    "cbar = fig.colorbar(cp)\n",
    "cbar.set_label('Efficiency')\n",
    "\n",
    "bench_eff = [2*C/(2*C+1) for C in coops]\n",
    "grand_bench_eff = [bench_eff for j in range(len(kappas))]\n",
    "\n",
    "grand_diff_effs = []\n",
    "for j in range(len(kappas)):\n",
    "    diff_effs = [grand_efficiencies[j][k] - grand_bench_eff[j][k] for k in range(len(coops))]\n",
    "    grand_diff_effs.append(diff_effs)\n",
    "\n",
    "cont = axes.contour(X,Y,grand_diff_effs,[0.002, 0.003,0.004,0.005, 0.006, 0.007, 0.008, 0.009], colors = 'k')\n",
    "axes.clabel(cont, inline=True)\n",
    "axes.set_xlabel('Cooperativity')\n",
    "axes.set_ylabel('$\\kappa\\,/\\gamma$')\n",
    "axes.set_title('$\\gamma=2\\pi$, $\\sin^2$ pulse, t=10/$\\gamma$')"
   ]
  },
  {
   "cell_type": "code",
   "execution_count": null,
   "metadata": {},
   "outputs": [],
   "source": [
    "bench_eff = [2*C/(2*C+1) for C in coops]\n",
    "grand_bench_eff = [bench_eff for j in range(len(kappas))]\n",
    "\n",
    "grand_diff_effs = []\n",
    "for j in range(len(kappas)):\n",
    "    diff_effs = [grand_efficiencies[j][k] - grand_bench_eff[j][k] for k in range(len(coops))]\n",
    "    grand_diff_effs.append(diff_effs)"
   ]
  },
  {
   "cell_type": "code",
   "execution_count": null,
   "metadata": {},
   "outputs": [
    {
     "data": {
      "text/plain": [
       "Text(0.5, 1.0, '$\\\\gamma=2\\\\pi$, $\\\\sin^2$ pulse, t=10/$\\\\gamma$')"
      ]
     },
     "execution_count": 28,
     "metadata": {},
     "output_type": "execute_result"
    },
    {
     "data": {
      "image/png": "[encoded data removed]",
      "text/plain": [
       "<Figure size 432x288 with 2 Axes>"
      ]
     },
     "metadata": {
      "needs_background": "light"
     },
     "output_type": "display_data"
    }
   ],
   "source": [
    "X, Y = np.meshgrid(coops, kappas)\n",
    "\n",
    "fig, axes = plt.subplots(1,1)\n",
    "cp = axes.contourf(X,Y, grand_diff_effs, levels = 20)\n",
    "axes.set_xscale('log')\n",
    "axes.set_yscale('log')\n",
    "\n",
    "cbar = fig.colorbar(cp)\n",
    "cbar.set_label('Efficiency Difference with Benchmark')\n",
    "cont = axes.contour(X,Y,grand_diff_effs,[0.01], colors = 'k')\n",
    "axes.clabel(cont)\n",
    "axes.set_xlabel('Cooperativity')\n",
    "axes.set_ylabel('$\\kappa\\,/\\gamma$')\n",
    "axes.set_title('$\\gamma=2\\pi$, $\\sin^2$ pulse, t=10/$\\gamma$')\n",
    "\n"
   ]
  },
  {
   "cell_type": "code",
   "execution_count": null,
   "metadata": {},
   "outputs": [],
   "source": [
    "np.savetxt('Grand Effs t=10gamma, sin^2.gz', grand_efficiencies)"
   ]
  },
  {
   "cell_type": "code",
   "execution_count": null,
   "metadata": {},
   "outputs": [
    {
     "name": "stdout",
     "output_type": "stream",
     "text": [
      "[1, 2, 3, 4]\n"
     ]
    }
   ],
   "source": [
    "v=[0,1,2,3,4]\n",
    "print(v[1:])"
   ]
  },
  {
   "cell_type": "code",
   "execution_count": null,
   "metadata": {},
   "outputs": [],
   "source": []
  }
 ],
 "metadata": {
  "kernelspec": {
   "display_name": "Python 3",
   "language": "python",
   "name": "python3"
  },
  "language_info": {
   "codemirror_mode": {
    "name": "ipython",
    "version": 3
   },
   "file_extension": ".py",
   "mimetype": "text/x-python",
   "name": "python",
   "nbconvert_exporter": "python",
   "pygments_lexer": "ipython3",
   "version": "3.9.6"
  },
  "orig_nbformat": 4,
  "vscode": {
   "interpreter": {
    "hash": "dae3ac56776b7f0c13ff2a66c89e689a0c1b66778b6723adca803d3092fc66a4"
   }
  }
 },
 "nbformat": 4,
 "nbformat_minor": 2
}
