{
 "cells": [
  {
   "cell_type": "code",
   "execution_count": 1,
   "metadata": {},
   "outputs": [],
   "source": [
    "from qutip import *\n",
    "import numpy as np\n",
    "import matplotlib.pyplot as plt\n",
    "import cython\n",
    "import multiprocessing\n",
    "from joblib import Parallel, delayed\n",
    "from tqdm import tqdm\n",
    "import pickle\n",
    "import skopt"
   ]
  },
  {
   "cell_type": "code",
   "execution_count": 2,
   "metadata": {},
   "outputs": [],
   "source": [
    "g_ket = basis(5,0)\n",
    "u_ket = basis(5,1)\n",
    "x_ket = basis(5,2)\n",
    "a_ket = basis(5,3)\n",
    "b_ket = basis(5,4)\n",
    "\n",
    "g_bra = g_ket.dag()\n",
    "u_bra = u_ket.dag()\n",
    "x_bra = x_ket.dag()\n",
    "a_bra = a_ket.dag()\n",
    "b_bra = b_ket.dag()\n",
    "\n",
    "g_id = g_ket*g_bra\n",
    "u_id = u_ket*u_bra\n",
    "x_id = x_ket*x_bra\n",
    "a_id = a_ket*a_bra\n",
    "b_id = b_ket*b_bra\n",
    "\n",
    "gx_swap = x_ket*g_bra\n",
    "ux_swap = x_ket*u_bra\n",
    "\n",
    "spont_decay = b_ket*x_bra\n",
    "cav_decay = a_ket*g_bra\n",
    "\n",
    "H_cav = -(gx_swap + gx_swap.dag())\n",
    "H_rabi = -1/2*(ux_swap + ux_swap.dag())\n",
    "H_atom = u_id + g_id\n",
    "\n",
    "opts = Options(rhs_reuse=True)\n",
    "\n",
    "gamma = 2*np.pi"
   ]
  },
  {
   "cell_type": "code",
   "execution_count": 3,
   "metadata": {},
   "outputs": [],
   "source": [
    "STEPS_PER_SEC = 100\n",
    "def create_time(pulse_time):\n",
    "    num_steps1 = round(STEPS_PER_SEC*pulse_time + 1)\n",
    "    if num_steps1 < 1001:\n",
    "        num_steps1 = 1001\n",
    "        \n",
    "    t_res = 2\n",
    "    int_time1 = round(pulse_time, t_res)*10**t_res\n",
    "    t1 = np.linspace(0, int_time1, num_steps1)\n",
    "    t1 /= 10**t_res\n",
    "\n",
    "    added_time = 1/gamma\n",
    "\n",
    "    num_steps2 = round(STEPS_PER_SEC*added_time + 1)\n",
    "    if num_steps2 < 1001:\n",
    "        num_steps2 = 1001\n",
    "    t_res = 2\n",
    "    int_time2 = round(pulse_time + added_time, t_res)*10**t_res\n",
    "    t2 = np.linspace(t1[-1], int_time2, num_steps1)\n",
    "    t2 /= 10**t_res\n",
    "\n",
    "    return [t1, t2]"
   ]
  },
  {
   "cell_type": "code",
   "execution_count": 4,
   "metadata": {},
   "outputs": [],
   "source": [
    "def save_obj(object, name):\n",
    "    with open(name+'.pickle', 'wb') as f:\n",
    "        print(name+'.pickle')\n",
    "        pickle.dump(object, f, protocol=pickle.HIGHEST_PROTOCOL)\n",
    "\n",
    "def load_obj(file):\n",
    "    with open(file, 'rb') as f:\n",
    "        return pickle.load(f)"
   ]
  },
  {
   "cell_type": "code",
   "execution_count": 5,
   "metadata": {},
   "outputs": [],
   "source": [
    "NUM_GS = 20\n",
    "NUM_TIMES = 20\n",
    "\n",
    "g_min = 1\n",
    "g_max = 40\n",
    "g_ratios=np.linspace(g_min, g_max, NUM_GS)\n",
    "\n",
    "t_min=0.5\n",
    "t_max=100\n",
    "t_min_idx = t_min/gamma\n",
    "t_max_idx = t_max/gamma\n",
    "pulse_times = np.linspace(t_min_idx, t_max_idx, NUM_TIMES)\n",
    "\n",
    "kappas = [0.01, 0.1, 1]\n",
    "kappa=2*np.pi\n",
    "kappa_str=1\n",
    "\n",
    "current_kappa = kappa\n",
    "current_time = pulse_times[0]"
   ]
  },
  {
   "cell_type": "code",
   "execution_count": 6,
   "metadata": {},
   "outputs": [],
   "source": [
    "def find_efficiency(g_ratio, omega, delta, kappa, time, psi0=u_ket, pulse_shape='sin'):\n",
    "\n",
    "    g0 = g_ratio*gamma\n",
    "    omega *= 2*np.pi\n",
    "    delta *= 2*np.pi\n",
    "    \n",
    "    t1, t2 = create_time(time)\n",
    "\n",
    "    H_args = {\n",
    "        'g0': g0,\n",
    "        'omega': omega,\n",
    "        'delta': delta,\n",
    "        'wSTIRAP': np.pi/time,\n",
    "        'T': time\n",
    "    }\n",
    "\n",
    "    global current_kappa\n",
    "    global current_time\n",
    "    if kappa != current_kappa or time != current_kappa:\n",
    "        rhs_clear()\n",
    "        opts.rhs_reuse = False\n",
    "        current_kappa = kappa\n",
    "        current_time = time\n",
    "\n",
    "    c_ops = [np.sqrt(kappa*gamma*2)*cav_decay, np.sqrt(gamma*2)*spont_decay]\n",
    "\n",
    "    if pulse_shape == 'sin':\n",
    "        pulse = 'omega*np.sin(wSTIRAP*t)**2'\n",
    "    else:\n",
    "        pulse = 'omega'\n",
    "    \n",
    "    H = [[H_cav, 'g0'], [H_rabi, pulse], [H_atom, 'delta']]\n",
    "\n",
    "    result1 = mesolve(H, psi0, t1, c_ops, options=opts, args=H_args)\n",
    "    H_args['omega'] = 0\n",
    "    #result2 = mesolve(H, result1.states[-1], t2, c_ops, options=opts, args=H_args)\n",
    "    opts.rhs_reuse = True\n",
    "\n",
    "    return expect(a_id, result1.states[-1])"
   ]
  },
  {
   "cell_type": "code",
   "execution_count": 7,
   "metadata": {},
   "outputs": [],
   "source": [
    "def optimiser(inputs):\n",
    "    g_ratio, omega_0, delta_0, kappa, time = inputs\n",
    "\n",
    "    omg_res = [300, 100, 30, 10, 3, 1, 0.3, 0.1]\n",
    "\n",
    "    init_eff = find_efficiency(g_ratio, omega_0, delta_0, kappa, time)\n",
    "\n",
    "    def find_eff(omega):\n",
    "        return find_efficiency(g_ratio, omega, delta_0, kappa, time)\n",
    "    \n",
    "    for res in omg_res:\n",
    "\n",
    "        new_step = 0\n",
    "        finished = False\n",
    "\n",
    "        while not finished:\n",
    "\n",
    "            if new_step == 0:\n",
    "                temp_effs = [init_eff, find_eff(omega_0 - res), find_eff(omega_0 + res)]\n",
    "            elif new_step == 1:\n",
    "                temp_effs = [init_eff, temp_effs[0], find_eff(omega_0 + res)]\n",
    "            else:\n",
    "                temp_effs = [init_eff, find_eff(omega_0 - res), temp_effs[0]]\n",
    "            \n",
    "            init_eff = max(temp_effs)\n",
    "\n",
    "            if np.argmax(temp_effs) == 0:\n",
    "                finished = True\n",
    "            elif np.argmax(temp_effs) == 1:\n",
    "                new_step = -1\n",
    "                omega_0 -= res\n",
    "            else:\n",
    "                new_step = 1\n",
    "                omega_0 += res\n",
    "            \n",
    "        omega_0 = abs(omega_0)\n",
    "\n",
    "    def neg_eff(omg):\n",
    "        return -find_eff(omg[0])\n",
    "\n",
    "    op_result = skopt.gp_minimize(neg_eff, [[0.95*omega_0, 1.05*omega_0]], x0=[omega_0], n_calls=12)\n",
    "    omega_0 = op_result.x[0]\n",
    "    final_eff = -op_result.fun\n",
    "\n",
    "    return {\n",
    "        'g_ratio': g_ratio,\n",
    "        'pulse_time': time,\n",
    "        'omega': omega_0,\n",
    "        'delta': delta_0,\n",
    "        'kappa': kappa,\n",
    "        'efficiency': final_eff\n",
    "    }"
   ]
  },
  {
   "cell_type": "code",
   "execution_count": 8,
   "metadata": {},
   "outputs": [],
   "source": [
    "total_cores = multiprocessing.cpu_count()\n",
    "if total_cores > 60:\n",
    "    num_cores = 60\n",
    "else:\n",
    "    num_cores = total_cores"
   ]
  },
  {
   "cell_type": "code",
   "execution_count": 9,
   "metadata": {},
   "outputs": [
    {
     "name": "stderr",
     "output_type": "stream",
     "text": [
      "100%|██████████| 20/20 [00:00<00:00, 1003.76it/s]\n"
     ]
    },
    {
     "ename": "Exception",
     "evalue": "Could not convert string to importable function, tmpfile:cqobjevo_compiled_coeff_7734770409122.pyx",
     "output_type": "error",
     "traceback": [
      "\u001b[1;31m---------------------------------------------------------------------------\u001b[0m",
      "\u001b[1;31m_RemoteTraceback\u001b[0m                          Traceback (most recent call last)",
      "\u001b[1;31m_RemoteTraceback\u001b[0m: \n\"\"\"\nTraceback (most recent call last):\n  File \"c:\\Users\\ernst\\Anaconda3\\envs\\qutip3.9\\lib\\site-packages\\pyximport\\pyximport.py\", line 214, in load_module\n    so_path = build_module(module_name, pyxfilename, pyxbuild_dir,\n  File \"c:\\Users\\ernst\\Anaconda3\\envs\\qutip3.9\\lib\\site-packages\\pyximport\\pyximport.py\", line 186, in build_module\n    so_path = pyxbuild.pyx_to_dll(pyxfilename, extension_mod,\n  File \"c:\\Users\\ernst\\Anaconda3\\envs\\qutip3.9\\lib\\site-packages\\pyximport\\pyxbuild.py\", line 102, in pyx_to_dll\n    dist.run_commands()\n  File \"c:\\Users\\ernst\\Anaconda3\\envs\\qutip3.9\\lib\\site-packages\\setuptools\\_distutils\\dist.py\", line 969, in run_commands\n    self.run_command(cmd)\n  File \"c:\\Users\\ernst\\Anaconda3\\envs\\qutip3.9\\lib\\site-packages\\setuptools\\dist.py\", line 1208, in run_command\n    super().run_command(command)\n  File \"c:\\Users\\ernst\\Anaconda3\\envs\\qutip3.9\\lib\\site-packages\\setuptools\\_distutils\\dist.py\", line 988, in run_command\n    cmd_obj.run()\n  File \"c:\\Users\\ernst\\Anaconda3\\envs\\qutip3.9\\lib\\site-packages\\Cython\\Distutils\\old_build_ext.py\", line 186, in run\n    _build_ext.build_ext.run(self)\n  File \"c:\\Users\\ernst\\Anaconda3\\envs\\qutip3.9\\lib\\site-packages\\setuptools\\_distutils\\command\\build_ext.py\", line 346, in run\n    self.build_extensions()\n  File \"c:\\Users\\ernst\\Anaconda3\\envs\\qutip3.9\\lib\\site-packages\\Cython\\Distutils\\old_build_ext.py\", line 193, in build_extensions\n    ext.sources = self.cython_sources(ext.sources, ext)\n  File \"c:\\Users\\ernst\\Anaconda3\\envs\\qutip3.9\\lib\\site-packages\\Cython\\Distutils\\old_build_ext.py\", line 346, in cython_sources\n    result = cython_compile(source, options=options,\n  File \"c:\\Users\\ernst\\Anaconda3\\envs\\qutip3.9\\lib\\site-packages\\Cython\\Compiler\\Main.py\", line 782, in compile\n    return compile_single(source, options, full_module_name)\n  File \"c:\\Users\\ernst\\Anaconda3\\envs\\qutip3.9\\lib\\site-packages\\Cython\\Compiler\\Main.py\", line 727, in compile_single\n    return run_pipeline(source, options, full_module_name)\n  File \"c:\\Users\\ernst\\Anaconda3\\envs\\qutip3.9\\lib\\site-packages\\Cython\\Compiler\\Main.py\", line 515, in run_pipeline\n    err, enddata = Pipeline.run_pipeline(pipeline, source)\n  File \"c:\\Users\\ernst\\Anaconda3\\envs\\qutip3.9\\lib\\site-packages\\Cython\\Compiler\\Pipeline.py\", line 355, in run_pipeline\n    data = run(phase, data)\n  File \"c:\\Users\\ernst\\Anaconda3\\envs\\qutip3.9\\lib\\site-packages\\Cython\\Compiler\\Pipeline.py\", line 335, in run\n    return phase(data)\n  File \"c:\\Users\\ernst\\Anaconda3\\envs\\qutip3.9\\lib\\site-packages\\Cython\\Compiler\\Pipeline.py\", line 52, in generate_pyx_code_stage\n    module_node.process_implementation(options, result)\n  File \"c:\\Users\\ernst\\Anaconda3\\envs\\qutip3.9\\lib\\site-packages\\Cython\\Compiler\\ModuleNode.py\", line 143, in process_implementation\n    self.generate_c_code(env, options, result)\n  File \"c:\\Users\\ernst\\Anaconda3\\envs\\qutip3.9\\lib\\site-packages\\Cython\\Compiler\\ModuleNode.py\", line 413, in generate_c_code\n    rootwriter.copyto(f)\n  File \"c:\\Users\\ernst\\Anaconda3\\envs\\qutip3.9\\lib\\site-packages\\Cython\\Compiler\\Code.py\", line 1756, in copyto\n    self.buffer.copyto(f)\n  File \"c:\\Users\\ernst\\Anaconda3\\envs\\qutip3.9\\lib\\site-packages\\Cython\\StringIOTree.py\", line 66, in copyto\n    child.copyto(target)\n  File \"c:\\Users\\ernst\\Anaconda3\\envs\\qutip3.9\\lib\\site-packages\\Cython\\StringIOTree.py\", line 69, in copyto\n    target.write(stream_content)\n  File \"c:\\Users\\ernst\\Anaconda3\\envs\\qutip3.9\\lib\\codecs.py\", line 721, in write\n    return self.writer.write(data)\n  File \"c:\\Users\\ernst\\Anaconda3\\envs\\qutip3.9\\lib\\codecs.py\", line 378, in write\n    self.stream.write(data)\nOSError: [Errno 28] No space left on device\n\nDuring handling of the above exception, another exception occurred:\n\nTraceback (most recent call last):\n  File \"c:\\Users\\ernst\\Anaconda3\\envs\\qutip3.9\\lib\\site-packages\\qutip\\qobjevo_codegen.py\", line 44, in _import_str\n    exec(import_code, locals())\n  File \"<string>\", line 1, in <module>\n  File \"c:\\Users\\ernst\\Anaconda3\\envs\\qutip3.9\\lib\\site-packages\\pyximport\\pyximport.py\", line 459, in load_module\n    module = load_module(fullname, self.path,\n  File \"c:\\Users\\ernst\\Anaconda3\\envs\\qutip3.9\\lib\\site-packages\\pyximport\\pyximport.py\", line 231, in load_module\n    raise exc.with_traceback(tb)\n  File \"c:\\Users\\ernst\\Anaconda3\\envs\\qutip3.9\\lib\\site-packages\\pyximport\\pyximport.py\", line 214, in load_module\n    so_path = build_module(module_name, pyxfilename, pyxbuild_dir,\n  File \"c:\\Users\\ernst\\Anaconda3\\envs\\qutip3.9\\lib\\site-packages\\pyximport\\pyximport.py\", line 186, in build_module\n    so_path = pyxbuild.pyx_to_dll(pyxfilename, extension_mod,\n  File \"c:\\Users\\ernst\\Anaconda3\\envs\\qutip3.9\\lib\\site-packages\\pyximport\\pyxbuild.py\", line 102, in pyx_to_dll\n    dist.run_commands()\n  File \"c:\\Users\\ernst\\Anaconda3\\envs\\qutip3.9\\lib\\site-packages\\setuptools\\_distutils\\dist.py\", line 969, in run_commands\n    self.run_command(cmd)\n  File \"c:\\Users\\ernst\\Anaconda3\\envs\\qutip3.9\\lib\\site-packages\\setuptools\\dist.py\", line 1208, in run_command\n    super().run_command(command)\n  File \"c:\\Users\\ernst\\Anaconda3\\envs\\qutip3.9\\lib\\site-packages\\setuptools\\_distutils\\dist.py\", line 988, in run_command\n    cmd_obj.run()\n  File \"c:\\Users\\ernst\\Anaconda3\\envs\\qutip3.9\\lib\\site-packages\\Cython\\Distutils\\old_build_ext.py\", line 186, in run\n    _build_ext.build_ext.run(self)\n  File \"c:\\Users\\ernst\\Anaconda3\\envs\\qutip3.9\\lib\\site-packages\\setuptools\\_distutils\\command\\build_ext.py\", line 346, in run\n    self.build_extensions()\n  File \"c:\\Users\\ernst\\Anaconda3\\envs\\qutip3.9\\lib\\site-packages\\Cython\\Distutils\\old_build_ext.py\", line 193, in build_extensions\n    ext.sources = self.cython_sources(ext.sources, ext)\n  File \"c:\\Users\\ernst\\Anaconda3\\envs\\qutip3.9\\lib\\site-packages\\Cython\\Distutils\\old_build_ext.py\", line 346, in cython_sources\n    result = cython_compile(source, options=options,\n  File \"c:\\Users\\ernst\\Anaconda3\\envs\\qutip3.9\\lib\\site-packages\\Cython\\Compiler\\Main.py\", line 782, in compile\n    return compile_single(source, options, full_module_name)\n  File \"c:\\Users\\ernst\\Anaconda3\\envs\\qutip3.9\\lib\\site-packages\\Cython\\Compiler\\Main.py\", line 727, in compile_single\n    return run_pipeline(source, options, full_module_name)\n  File \"c:\\Users\\ernst\\Anaconda3\\envs\\qutip3.9\\lib\\site-packages\\Cython\\Compiler\\Main.py\", line 515, in run_pipeline\n    err, enddata = Pipeline.run_pipeline(pipeline, source)\n  File \"c:\\Users\\ernst\\Anaconda3\\envs\\qutip3.9\\lib\\site-packages\\Cython\\Compiler\\Pipeline.py\", line 355, in run_pipeline\n    data = run(phase, data)\n  File \"c:\\Users\\ernst\\Anaconda3\\envs\\qutip3.9\\lib\\site-packages\\Cython\\Compiler\\Pipeline.py\", line 335, in run\n    return phase(data)\n  File \"c:\\Users\\ernst\\Anaconda3\\envs\\qutip3.9\\lib\\site-packages\\Cython\\Compiler\\Pipeline.py\", line 52, in generate_pyx_code_stage\n    module_node.process_implementation(options, result)\n  File \"c:\\Users\\ernst\\Anaconda3\\envs\\qutip3.9\\lib\\site-packages\\Cython\\Compiler\\ModuleNode.py\", line 143, in process_implementation\n    self.generate_c_code(env, options, result)\n  File \"c:\\Users\\ernst\\Anaconda3\\envs\\qutip3.9\\lib\\site-packages\\Cython\\Compiler\\ModuleNode.py\", line 413, in generate_c_code\n    rootwriter.copyto(f)\n  File \"c:\\Users\\ernst\\Anaconda3\\envs\\qutip3.9\\lib\\site-packages\\Cython\\Compiler\\Code.py\", line 1756, in copyto\n    self.buffer.copyto(f)\n  File \"c:\\Users\\ernst\\Anaconda3\\envs\\qutip3.9\\lib\\site-packages\\Cython\\StringIOTree.py\", line 66, in copyto\n    child.copyto(target)\n  File \"c:\\Users\\ernst\\Anaconda3\\envs\\qutip3.9\\lib\\site-packages\\Cython\\StringIOTree.py\", line 69, in copyto\n    target.write(stream_content)\n  File \"c:\\Users\\ernst\\Anaconda3\\envs\\qutip3.9\\lib\\codecs.py\", line 721, in write\n    return self.writer.write(data)\n  File \"c:\\Users\\ernst\\Anaconda3\\envs\\qutip3.9\\lib\\codecs.py\", line 378, in write\n    self.stream.write(data)\nImportError: Building module cqobjevo_compiled_coeff_7734770409122 failed: ['OSError: [Errno 28] No space left on device\\n']\n\nThe above exception was the direct cause of the following exception:\n\nTraceback (most recent call last):\n  File \"c:\\Users\\ernst\\Anaconda3\\envs\\qutip3.9\\lib\\site-packages\\joblib\\externals\\loky\\process_executor.py\", line 436, in _process_worker\n    r = call_item()\n  File \"c:\\Users\\ernst\\Anaconda3\\envs\\qutip3.9\\lib\\site-packages\\joblib\\externals\\loky\\process_executor.py\", line 288, in __call__\n    return self.fn(*self.args, **self.kwargs)\n  File \"c:\\Users\\ernst\\Anaconda3\\envs\\qutip3.9\\lib\\site-packages\\joblib\\_parallel_backends.py\", line 595, in __call__\n    return self.func(*args, **kwargs)\n  File \"c:\\Users\\ernst\\Anaconda3\\envs\\qutip3.9\\lib\\site-packages\\joblib\\parallel.py\", line 263, in __call__\n    return [func(*args, **kwargs)\n  File \"c:\\Users\\ernst\\Anaconda3\\envs\\qutip3.9\\lib\\site-packages\\joblib\\parallel.py\", line 263, in <listcomp>\n    return [func(*args, **kwargs)\n  File \"C:\\Users\\ernst\\AppData\\Local\\Temp\\ipykernel_28216\\3519480383.py\", line 19, in optimiser\n  File \"C:\\Users\\ernst\\AppData\\Local\\Temp\\ipykernel_28216\\3519480383.py\", line 9, in find_eff\n  File \"C:\\Users\\ernst\\AppData\\Local\\Temp\\ipykernel_28216\\538393058.py\", line 34, in find_efficiency\n  File \"c:\\Users\\ernst\\Anaconda3\\envs\\qutip3.9\\lib\\site-packages\\qutip\\mesolve.py\", line 231, in mesolve\n    ss = _mesolve_QobjEvo(H, c_ops, tlist, args, options)\n  File \"c:\\Users\\ernst\\Anaconda3\\envs\\qutip3.9\\lib\\site-packages\\qutip\\mesolve.py\", line 287, in _mesolve_QobjEvo\n    L_td.compile(omp=nthread)\n  File \"c:\\Users\\ernst\\Anaconda3\\envs\\qutip3.9\\lib\\site-packages\\qutip\\qobjevo.py\", line 1640, in compile\n    self.coeff_get, Code, file_ = _compiled_coeffs(\n  File \"c:\\Users\\ernst\\Anaconda3\\envs\\qutip3.9\\lib\\site-packages\\qutip\\qobjevo_codegen.py\", line 93, in _compiled_coeffs\n    coeff_obj, filename = _import_str(code, \"cqobjevo_compiled_coeff_\",\n  File \"c:\\Users\\ernst\\Anaconda3\\envs\\qutip3.9\\lib\\site-packages\\qutip\\qobjevo_codegen.py\", line 51, in _import_str\n    raise Exception(\"Could not convert string to importable function, \"\nException: Could not convert string to importable function, tmpfile:cqobjevo_compiled_coeff_7734770409122.pyx\n\"\"\"",
      "\nThe above exception was the direct cause of the following exception:\n",
      "\u001b[1;31mException\u001b[0m                                 Traceback (most recent call last)",
      "\u001b[1;32m~\\AppData\\Local\\Temp\\ipykernel_28216\\1217684998.py\u001b[0m in \u001b[0;36m<module>\u001b[1;34m\u001b[0m\n\u001b[0;32m     15\u001b[0m     \u001b[1;32mif\u001b[0m \u001b[0m__name__\u001b[0m \u001b[1;33m==\u001b[0m \u001b[1;34m\"__main__\"\u001b[0m\u001b[1;33m:\u001b[0m\u001b[1;33m\u001b[0m\u001b[1;33m\u001b[0m\u001b[0m\n\u001b[0;32m     16\u001b[0m         \u001b[0minputs\u001b[0m \u001b[1;33m=\u001b[0m \u001b[0mtqdm\u001b[0m\u001b[1;33m(\u001b[0m\u001b[0minput_set\u001b[0m\u001b[1;33m)\u001b[0m\u001b[1;33m\u001b[0m\u001b[1;33m\u001b[0m\u001b[0m\n\u001b[1;32m---> 17\u001b[1;33m         \u001b[0mprocessed_list\u001b[0m \u001b[1;33m=\u001b[0m \u001b[0mParallel\u001b[0m\u001b[1;33m(\u001b[0m\u001b[0mn_jobs\u001b[0m\u001b[1;33m=\u001b[0m\u001b[0mnum_cores\u001b[0m\u001b[1;33m)\u001b[0m\u001b[1;33m(\u001b[0m\u001b[0mdelayed\u001b[0m\u001b[1;33m(\u001b[0m\u001b[0moptimiser\u001b[0m\u001b[1;33m)\u001b[0m\u001b[1;33m(\u001b[0m\u001b[0mi\u001b[0m\u001b[1;33m)\u001b[0m \u001b[1;32mfor\u001b[0m \u001b[0mi\u001b[0m \u001b[1;32min\u001b[0m \u001b[0minputs\u001b[0m\u001b[1;33m)\u001b[0m\u001b[1;33m\u001b[0m\u001b[1;33m\u001b[0m\u001b[0m\n\u001b[0m\u001b[0;32m     18\u001b[0m         \u001b[0moutput_list\u001b[0m\u001b[1;33m.\u001b[0m\u001b[0mappend\u001b[0m\u001b[1;33m(\u001b[0m\u001b[0mprocessed_list\u001b[0m\u001b[1;33m)\u001b[0m\u001b[1;33m\u001b[0m\u001b[1;33m\u001b[0m\u001b[0m\n\u001b[0;32m     19\u001b[0m         \u001b[0msave_obj\u001b[0m\u001b[1;33m(\u001b[0m\u001b[0moutput_list\u001b[0m\u001b[1;33m,\u001b[0m \u001b[1;34mf'time_[{0}gamma^-1,{1}gamma^-1]_g_[{2},{3}]_kappa={4}_sin^2'\u001b[0m\u001b[1;33m.\u001b[0m\u001b[0mformat\u001b[0m\u001b[1;33m(\u001b[0m\u001b[0mt_min\u001b[0m\u001b[1;33m,\u001b[0m\u001b[0mt_max\u001b[0m\u001b[1;33m,\u001b[0m\u001b[0mg_min\u001b[0m\u001b[1;33m,\u001b[0m\u001b[0mg_max\u001b[0m\u001b[1;33m,\u001b[0m\u001b[0mkappa_str\u001b[0m\u001b[1;33m)\u001b[0m\u001b[1;33m)\u001b[0m\u001b[1;33m\u001b[0m\u001b[1;33m\u001b[0m\u001b[0m\n",
      "\u001b[1;32mc:\\Users\\ernst\\Anaconda3\\envs\\qutip3.9\\lib\\site-packages\\joblib\\parallel.py\u001b[0m in \u001b[0;36m__call__\u001b[1;34m(self, iterable)\u001b[0m\n\u001b[0;32m   1059\u001b[0m \u001b[1;33m\u001b[0m\u001b[0m\n\u001b[0;32m   1060\u001b[0m             \u001b[1;32mwith\u001b[0m \u001b[0mself\u001b[0m\u001b[1;33m.\u001b[0m\u001b[0m_backend\u001b[0m\u001b[1;33m.\u001b[0m\u001b[0mretrieval_context\u001b[0m\u001b[1;33m(\u001b[0m\u001b[1;33m)\u001b[0m\u001b[1;33m:\u001b[0m\u001b[1;33m\u001b[0m\u001b[1;33m\u001b[0m\u001b[0m\n\u001b[1;32m-> 1061\u001b[1;33m                 \u001b[0mself\u001b[0m\u001b[1;33m.\u001b[0m\u001b[0mretrieve\u001b[0m\u001b[1;33m(\u001b[0m\u001b[1;33m)\u001b[0m\u001b[1;33m\u001b[0m\u001b[1;33m\u001b[0m\u001b[0m\n\u001b[0m\u001b[0;32m   1062\u001b[0m             \u001b[1;31m# Make sure that we get a last message telling us we are done\u001b[0m\u001b[1;33m\u001b[0m\u001b[1;33m\u001b[0m\u001b[0m\n\u001b[0;32m   1063\u001b[0m             \u001b[0melapsed_time\u001b[0m \u001b[1;33m=\u001b[0m \u001b[0mtime\u001b[0m\u001b[1;33m.\u001b[0m\u001b[0mtime\u001b[0m\u001b[1;33m(\u001b[0m\u001b[1;33m)\u001b[0m \u001b[1;33m-\u001b[0m \u001b[0mself\u001b[0m\u001b[1;33m.\u001b[0m\u001b[0m_start_time\u001b[0m\u001b[1;33m\u001b[0m\u001b[1;33m\u001b[0m\u001b[0m\n",
      "\u001b[1;32mc:\\Users\\ernst\\Anaconda3\\envs\\qutip3.9\\lib\\site-packages\\joblib\\parallel.py\u001b[0m in \u001b[0;36mretrieve\u001b[1;34m(self)\u001b[0m\n\u001b[0;32m    936\u001b[0m             \u001b[1;32mtry\u001b[0m\u001b[1;33m:\u001b[0m\u001b[1;33m\u001b[0m\u001b[1;33m\u001b[0m\u001b[0m\n\u001b[0;32m    937\u001b[0m                 \u001b[1;32mif\u001b[0m \u001b[0mgetattr\u001b[0m\u001b[1;33m(\u001b[0m\u001b[0mself\u001b[0m\u001b[1;33m.\u001b[0m\u001b[0m_backend\u001b[0m\u001b[1;33m,\u001b[0m \u001b[1;34m'supports_timeout'\u001b[0m\u001b[1;33m,\u001b[0m \u001b[1;32mFalse\u001b[0m\u001b[1;33m)\u001b[0m\u001b[1;33m:\u001b[0m\u001b[1;33m\u001b[0m\u001b[1;33m\u001b[0m\u001b[0m\n\u001b[1;32m--> 938\u001b[1;33m                     \u001b[0mself\u001b[0m\u001b[1;33m.\u001b[0m\u001b[0m_output\u001b[0m\u001b[1;33m.\u001b[0m\u001b[0mextend\u001b[0m\u001b[1;33m(\u001b[0m\u001b[0mjob\u001b[0m\u001b[1;33m.\u001b[0m\u001b[0mget\u001b[0m\u001b[1;33m(\u001b[0m\u001b[0mtimeout\u001b[0m\u001b[1;33m=\u001b[0m\u001b[0mself\u001b[0m\u001b[1;33m.\u001b[0m\u001b[0mtimeout\u001b[0m\u001b[1;33m)\u001b[0m\u001b[1;33m)\u001b[0m\u001b[1;33m\u001b[0m\u001b[1;33m\u001b[0m\u001b[0m\n\u001b[0m\u001b[0;32m    939\u001b[0m                 \u001b[1;32melse\u001b[0m\u001b[1;33m:\u001b[0m\u001b[1;33m\u001b[0m\u001b[1;33m\u001b[0m\u001b[0m\n\u001b[0;32m    940\u001b[0m                     \u001b[0mself\u001b[0m\u001b[1;33m.\u001b[0m\u001b[0m_output\u001b[0m\u001b[1;33m.\u001b[0m\u001b[0mextend\u001b[0m\u001b[1;33m(\u001b[0m\u001b[0mjob\u001b[0m\u001b[1;33m.\u001b[0m\u001b[0mget\u001b[0m\u001b[1;33m(\u001b[0m\u001b[1;33m)\u001b[0m\u001b[1;33m)\u001b[0m\u001b[1;33m\u001b[0m\u001b[1;33m\u001b[0m\u001b[0m\n",
      "\u001b[1;32mc:\\Users\\ernst\\Anaconda3\\envs\\qutip3.9\\lib\\site-packages\\joblib\\_parallel_backends.py\u001b[0m in \u001b[0;36mwrap_future_result\u001b[1;34m(future, timeout)\u001b[0m\n\u001b[0;32m    540\u001b[0m         AsyncResults.get from multiprocessing.\"\"\"\n\u001b[0;32m    541\u001b[0m         \u001b[1;32mtry\u001b[0m\u001b[1;33m:\u001b[0m\u001b[1;33m\u001b[0m\u001b[1;33m\u001b[0m\u001b[0m\n\u001b[1;32m--> 542\u001b[1;33m             \u001b[1;32mreturn\u001b[0m \u001b[0mfuture\u001b[0m\u001b[1;33m.\u001b[0m\u001b[0mresult\u001b[0m\u001b[1;33m(\u001b[0m\u001b[0mtimeout\u001b[0m\u001b[1;33m=\u001b[0m\u001b[0mtimeout\u001b[0m\u001b[1;33m)\u001b[0m\u001b[1;33m\u001b[0m\u001b[1;33m\u001b[0m\u001b[0m\n\u001b[0m\u001b[0;32m    543\u001b[0m         \u001b[1;32mexcept\u001b[0m \u001b[0mCfTimeoutError\u001b[0m \u001b[1;32mas\u001b[0m \u001b[0me\u001b[0m\u001b[1;33m:\u001b[0m\u001b[1;33m\u001b[0m\u001b[1;33m\u001b[0m\u001b[0m\n\u001b[0;32m    544\u001b[0m             \u001b[1;32mraise\u001b[0m \u001b[0mTimeoutError\u001b[0m \u001b[1;32mfrom\u001b[0m \u001b[0me\u001b[0m\u001b[1;33m\u001b[0m\u001b[1;33m\u001b[0m\u001b[0m\n",
      "\u001b[1;32mc:\\Users\\ernst\\Anaconda3\\envs\\qutip3.9\\lib\\concurrent\\futures\\_base.py\u001b[0m in \u001b[0;36mresult\u001b[1;34m(self, timeout)\u001b[0m\n\u001b[0;32m    444\u001b[0m                     \u001b[1;32mraise\u001b[0m \u001b[0mCancelledError\u001b[0m\u001b[1;33m(\u001b[0m\u001b[1;33m)\u001b[0m\u001b[1;33m\u001b[0m\u001b[1;33m\u001b[0m\u001b[0m\n\u001b[0;32m    445\u001b[0m                 \u001b[1;32melif\u001b[0m \u001b[0mself\u001b[0m\u001b[1;33m.\u001b[0m\u001b[0m_state\u001b[0m \u001b[1;33m==\u001b[0m \u001b[0mFINISHED\u001b[0m\u001b[1;33m:\u001b[0m\u001b[1;33m\u001b[0m\u001b[1;33m\u001b[0m\u001b[0m\n\u001b[1;32m--> 446\u001b[1;33m                     \u001b[1;32mreturn\u001b[0m \u001b[0mself\u001b[0m\u001b[1;33m.\u001b[0m\u001b[0m__get_result\u001b[0m\u001b[1;33m(\u001b[0m\u001b[1;33m)\u001b[0m\u001b[1;33m\u001b[0m\u001b[1;33m\u001b[0m\u001b[0m\n\u001b[0m\u001b[0;32m    447\u001b[0m                 \u001b[1;32melse\u001b[0m\u001b[1;33m:\u001b[0m\u001b[1;33m\u001b[0m\u001b[1;33m\u001b[0m\u001b[0m\n\u001b[0;32m    448\u001b[0m                     \u001b[1;32mraise\u001b[0m \u001b[0mTimeoutError\u001b[0m\u001b[1;33m(\u001b[0m\u001b[1;33m)\u001b[0m\u001b[1;33m\u001b[0m\u001b[1;33m\u001b[0m\u001b[0m\n",
      "\u001b[1;32mc:\\Users\\ernst\\Anaconda3\\envs\\qutip3.9\\lib\\concurrent\\futures\\_base.py\u001b[0m in \u001b[0;36m__get_result\u001b[1;34m(self)\u001b[0m\n\u001b[0;32m    389\u001b[0m         \u001b[1;32mif\u001b[0m \u001b[0mself\u001b[0m\u001b[1;33m.\u001b[0m\u001b[0m_exception\u001b[0m\u001b[1;33m:\u001b[0m\u001b[1;33m\u001b[0m\u001b[1;33m\u001b[0m\u001b[0m\n\u001b[0;32m    390\u001b[0m             \u001b[1;32mtry\u001b[0m\u001b[1;33m:\u001b[0m\u001b[1;33m\u001b[0m\u001b[1;33m\u001b[0m\u001b[0m\n\u001b[1;32m--> 391\u001b[1;33m                 \u001b[1;32mraise\u001b[0m \u001b[0mself\u001b[0m\u001b[1;33m.\u001b[0m\u001b[0m_exception\u001b[0m\u001b[1;33m\u001b[0m\u001b[1;33m\u001b[0m\u001b[0m\n\u001b[0m\u001b[0;32m    392\u001b[0m             \u001b[1;32mfinally\u001b[0m\u001b[1;33m:\u001b[0m\u001b[1;33m\u001b[0m\u001b[1;33m\u001b[0m\u001b[0m\n\u001b[0;32m    393\u001b[0m                 \u001b[1;31m# Break a reference cycle with the exception in self._exception\u001b[0m\u001b[1;33m\u001b[0m\u001b[1;33m\u001b[0m\u001b[0m\n",
      "\u001b[1;31mException\u001b[0m: Could not convert string to importable function, tmpfile:cqobjevo_compiled_coeff_7734770409122.pyx"
     ]
    }
   ],
   "source": [
    "\n",
    "first_time = True\n",
    "input_args = []\n",
    "output_list = []\n",
    "\n",
    "for j in range(len(pulse_times)):\n",
    "    input_args.append([[g_ratios[k], 100, 0, kappa, pulse_times[j]]for k in range(len(g_ratios))])\n",
    "\n",
    "for input_set in input_args:\n",
    "\n",
    "    if not first_time:\n",
    "\n",
    "        for k in range(len(g_ratios)):\n",
    "            input_set[k][1] = processed_list[k]['omega']\n",
    "    \n",
    "    if __name__ == \"__main__\":\n",
    "        inputs = tqdm(input_set)\n",
    "        processed_list = Parallel(n_jobs=num_cores)(delayed(optimiser)(i) for i in inputs)\n",
    "        output_list.append(processed_list)\n",
    "        save_obj(output_list, f'time_[{0}gamma^-1,{1}gamma^-1]_g_[{2},{3}]_kappa={4}_sin^2'.format(t_min,t_max,g_min,g_max,kappa_str))\n",
    "    first_time = False\n",
    "\n"
   ]
  },
  {
   "cell_type": "code",
   "execution_count": null,
   "metadata": {},
   "outputs": [
    {
     "ename": "",
     "evalue": "",
     "output_type": "error",
     "traceback": [
      "\u001b[1;31mRunning cells with '/usr/local/bin/python3' requires ipykernel package.\n",
      "\u001b[1;31mRun the following command to install 'ipykernel' into the Python environment. \n",
      "\u001b[1;31mCommand: '/usr/local/bin/python3 -m pip install ipykernel -U --user --force-reinstall'"
     ]
    }
   ],
   "source": [
    "NUM_CONTS = 40\n",
    "times = [time*gamma for time in pulse_times]\n",
    "\n",
    "def C(g_ratio, kappa):\n",
    "    return g_ratio**2/(2*kappa)\n",
    "\n",
    "for kappa in kappas:\n",
    "    data = load_obj(f'time_[10gamma^-1,100gamma^-1]_g_[sqrt(kappa_ratio),20*sqrt(kappa_ratio)]_kappa={kappa}_sin^2.pickle')\n",
    "    g_ratios = def_gs(kappa, NUM_GS)\n",
    "\n",
    "    effs = [[data[j][k]['efficiency'] for k in range(len(g_ratios))] for j in range(len(times))]\n",
    "    bench = [[2*C(g, kappa)/(2*C(g,kappa)+1) for g in g_ratios] for t in times]\n",
    "    diff_effs = [[effs[j][k] - bench[j][k] for k in range(len(g_ratios))] for j in range(len(times))]\n",
    "    C_ratios = [[effs[j][k]/(2*C(g_ratios[k], kappa)*(1-effs[j][k])) for k in range(len(g_ratios))] for j in range(len(g_ratios))]\n",
    "\n",
    "    X, Y = np.meshgrid(g_ratios, times)\n",
    "    fig,[a1,a2] = plt.subplots(1,2)\n",
    "    fig.set_size_inches(18,6)\n",
    "\n",
    "    cp1 = a1.contourf(X,Y, effs, levels=NUM_CONTS)\n",
    "    cb1 = fig.colorbar(cp1)\n",
    "    cb1.set_label('Efficiency')\n",
    "    a1.set_xlabel('$g_0/\\gamma$')\n",
    "    a1.set_ylabel('$T/\\gamma$')\n",
    "    cs1 = a1.contour(X,Y, diff_effs, [0], colors='k')\n",
    "    a1.text(5*np.sqrt(kappa), 200, '$\\\\frac{2C}{2C+1}$', fontsize=13, color='k')\n",
    "\n",
    "    cp2 = a2.contourf(X,Y, C_ratios,levels=NUM_CONTS)\n",
    "    cb2 = fig.colorbar(cp2)\n",
    "    cb2.set_label('$\\\\tilde{C}/C$')\n",
    "    a2.set_xlabel('$g_0/\\gamma$')\n",
    "    a2.set_ylabel('$T/\\gamma$')\n",
    "\n",
    "\n"
   ]
  },
  {
   "cell_type": "code",
   "execution_count": null,
   "metadata": {},
   "outputs": [
    {
     "ename": "",
     "evalue": "",
     "output_type": "error",
     "traceback": [
      "\u001b[1;31mRunning cells with '/usr/local/bin/python3' requires ipykernel package.\n",
      "\u001b[1;31mRun the following command to install 'ipykernel' into the Python environment. \n",
      "\u001b[1;31mCommand: '/usr/local/bin/python3 -m pip install ipykernel -U --user --force-reinstall'"
     ]
    }
   ],
   "source": []
  },
  {
   "cell_type": "code",
   "execution_count": null,
   "metadata": {},
   "outputs": [
    {
     "ename": "",
     "evalue": "",
     "output_type": "error",
     "traceback": [
      "\u001b[1;31mRunning cells with '/usr/local/bin/python3' requires ipykernel package.\n",
      "\u001b[1;31mRun the following command to install 'ipykernel' into the Python environment. \n",
      "\u001b[1;31mCommand: '/usr/local/bin/python3 -m pip install ipykernel -U --user --force-reinstall'"
     ]
    }
   ],
   "source": []
  }
 ],
 "metadata": {
  "kernelspec": {
   "display_name": "Python 3.9.16",
   "language": "python",
   "name": "python3"
  },
  "language_info": {
   "codemirror_mode": {
    "name": "ipython",
    "version": 3
   },
   "file_extension": ".py",
   "mimetype": "text/x-python",
   "name": "python",
   "nbconvert_exporter": "python",
   "pygments_lexer": "ipython3",
   "version": "3.9.16"
  },
  "orig_nbformat": 4,
  "vscode": {
   "interpreter": {
    "hash": "31236b4023e4b812e7e8c3031081aef24e286ccf234cfb2706041d3092429caf"
   }
  }
 },
 "nbformat": 4,
 "nbformat_minor": 2
}
