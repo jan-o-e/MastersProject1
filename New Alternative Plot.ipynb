{
 "cells": [
  {
   "cell_type": "code",
   "execution_count": 1,
   "metadata": {},
   "outputs": [],
   "source": [
    "from qutip import *\n",
    "import numpy as np\n",
    "import matplotlib.pyplot as plt\n",
    "import cython\n",
    "import multiprocessing\n",
    "from joblib import Parallel, delayed\n",
    "from tqdm import tqdm\n",
    "import pickle\n",
    "import skopt"
   ]
  },
  {
   "cell_type": "code",
   "execution_count": 2,
   "metadata": {},
   "outputs": [],
   "source": [
    "g_ket = basis(5,0)\n",
    "u_ket = basis(5,1)\n",
    "x_ket = basis(5,2)\n",
    "a_ket = basis(5,3)\n",
    "b_ket = basis(5,4)\n",
    "\n",
    "g_bra = g_ket.dag()\n",
    "u_bra = u_ket.dag()\n",
    "x_bra = x_ket.dag()\n",
    "a_bra = a_ket.dag()\n",
    "b_bra = b_ket.dag()\n",
    "\n",
    "g_id = g_ket*g_bra\n",
    "u_id = u_ket*u_bra\n",
    "x_id = x_ket*x_bra\n",
    "a_id = a_ket*a_bra\n",
    "b_id = b_ket*b_bra\n",
    "\n",
    "gx_swap = x_ket*g_bra\n",
    "ux_swap = x_ket*u_bra\n",
    "\n",
    "spont_decay = b_ket*x_bra\n",
    "cav_decay = a_ket*g_bra\n",
    "\n",
    "H_cav = -(gx_swap + gx_swap.dag())\n",
    "H_rabi = -1/2*(ux_swap + ux_swap.dag())\n",
    "H_atom = u_id + g_id\n",
    "\n",
    "opts = Options(rhs_reuse=True)\n",
    "\n",
    "gamma = 2*np.pi"
   ]
  },
  {
   "cell_type": "code",
   "execution_count": 3,
   "metadata": {},
   "outputs": [],
   "source": [
    "STEPS_PER_SEC = 100\n",
    "def create_time(pulse_time):\n",
    "    num_steps1 = round(STEPS_PER_SEC*pulse_time + 1)\n",
    "    if num_steps1 < 1001:\n",
    "        num_steps1 = 1001\n",
    "        \n",
    "    t_res = 2\n",
    "    int_time1 = round(pulse_time, t_res)*10**t_res\n",
    "    t1 = np.linspace(0, int_time1, num_steps1)\n",
    "    t1 /= 10**t_res\n",
    "\n",
    "    added_time = 1/gamma\n",
    "\n",
    "    num_steps2 = round(STEPS_PER_SEC*added_time + 1)\n",
    "    if num_steps2 < 1001:\n",
    "        num_steps2 = 1001\n",
    "    t_res = 2\n",
    "    int_time2 = round(pulse_time + added_time, t_res)*10**t_res\n",
    "    t2 = np.linspace(t1[-1], int_time2, num_steps1)\n",
    "    t2 /= 10**t_res\n",
    "\n",
    "    return [t1, t2]"
   ]
  },
  {
   "cell_type": "code",
   "execution_count": 4,
   "metadata": {},
   "outputs": [],
   "source": [
    "def save_obj(object, name):\n",
    "    with open(name+'.pickle', 'wb') as f:\n",
    "        print(name+'.pickle')\n",
    "        pickle.dump(object, f, protocol=pickle.HIGHEST_PROTOCOL)\n",
    "\n",
    "def load_obj(file):\n",
    "    with open(file, 'rb') as f:\n",
    "        return pickle.load(f)"
   ]
  },
  {
   "cell_type": "code",
   "execution_count": 5,
   "metadata": {},
   "outputs": [],
   "source": [
    "NUM_GS = 20\n",
    "NUM_TIMES = 20\n",
    "\n",
    "g_min = 1\n",
    "g_max = 20\n",
    "g_ratios=np.linspace(g_min, g_max, NUM_GS)\n",
    "\n",
    "t_min=0.5\n",
    "t_max=20\n",
    "t_min_idx = t_min/gamma\n",
    "t_max_idx = t_max/gamma\n",
    "pulse_times = np.linspace(t_min_idx, t_max_idx, NUM_TIMES)\n",
    "\n",
    "kappas = [0.01, 0.1, 1]\n",
    "kappa=2*np.pi\n",
    "kappa_str=1\n",
    "\n",
    "current_kappa = kappa\n",
    "current_time = pulse_times[0]"
   ]
  },
  {
   "cell_type": "code",
   "execution_count": 6,
   "metadata": {},
   "outputs": [],
   "source": [
    "def find_efficiency(g_ratio, omega, delta, kappa, time, psi0=u_ket, pulse_shape='sin'):\n",
    "\n",
    "    g0 = g_ratio*gamma\n",
    "    omega *= 2*np.pi\n",
    "    delta *= 2*np.pi\n",
    "    \n",
    "    t1, t2 = create_time(time)\n",
    "\n",
    "    H_args = {\n",
    "        'g0': g0,\n",
    "        'omega': omega,\n",
    "        'delta': delta,\n",
    "        'wSTIRAP': np.pi/time,\n",
    "        'T': time\n",
    "    }\n",
    "\n",
    "    global current_kappa\n",
    "    global current_time\n",
    "    if kappa != current_kappa or time != current_kappa:\n",
    "        rhs_clear()\n",
    "        opts.rhs_reuse = False\n",
    "        current_kappa = kappa\n",
    "        current_time = time\n",
    "\n",
    "    c_ops = [np.sqrt(kappa*gamma*2)*cav_decay, np.sqrt(gamma*2)*spont_decay]\n",
    "\n",
    "    if pulse_shape == 'sin':\n",
    "        pulse = 'omega*np.sin(wSTIRAP*t)**2'\n",
    "    else:\n",
    "        pulse = 'omega'\n",
    "    \n",
    "    H = [[H_cav, 'g0'], [H_rabi, pulse], [H_atom, 'delta']]\n",
    "\n",
    "    result1 = mesolve(H, psi0, t1, c_ops, options=opts, args=H_args)\n",
    "    H_args['omega'] = 0\n",
    "    #result2 = mesolve(H, result1.states[-1], t2, c_ops, options=opts, args=H_args)\n",
    "    opts.rhs_reuse = True\n",
    "\n",
    "    return expect(a_id, result1.states[-1])"
   ]
  },
  {
   "cell_type": "code",
   "execution_count": 7,
   "metadata": {},
   "outputs": [],
   "source": [
    "def optimiser(inputs):\n",
    "    g_ratio, omega_0, delta_0, kappa, time = inputs\n",
    "\n",
    "    omg_res = [300, 100, 30, 10, 3, 1, 0.3, 0.1]\n",
    "\n",
    "    init_eff = find_efficiency(g_ratio, omega_0, delta_0, kappa, time)\n",
    "\n",
    "    def find_eff(omega):\n",
    "        return find_efficiency(g_ratio, omega, delta_0, kappa, time)\n",
    "    \n",
    "    for res in omg_res:\n",
    "\n",
    "        new_step = 0\n",
    "        finished = False\n",
    "\n",
    "        while not finished:\n",
    "\n",
    "            if new_step == 0:\n",
    "                temp_effs = [init_eff, find_eff(omega_0 - res), find_eff(omega_0 + res)]\n",
    "            elif new_step == 1:\n",
    "                temp_effs = [init_eff, temp_effs[0], find_eff(omega_0 + res)]\n",
    "            else:\n",
    "                temp_effs = [init_eff, find_eff(omega_0 - res), temp_effs[0]]\n",
    "            \n",
    "            init_eff = max(temp_effs)\n",
    "\n",
    "            if np.argmax(temp_effs) == 0:\n",
    "                finished = True\n",
    "            elif np.argmax(temp_effs) == 1:\n",
    "                new_step = -1\n",
    "                omega_0 -= res\n",
    "            else:\n",
    "                new_step = 1\n",
    "                omega_0 += res\n",
    "            \n",
    "        omega_0 = abs(omega_0)\n",
    "\n",
    "    def neg_eff(omg):\n",
    "        return -find_eff(omg[0])\n",
    "\n",
    "    op_result = skopt.gp_minimize(neg_eff, [[0.95*omega_0, 1.05*omega_0]], x0=[omega_0], n_calls=12)\n",
    "    omega_0 = op_result.x[0]\n",
    "    final_eff = -op_result.fun\n",
    "\n",
    "    return {\n",
    "        'g_ratio': g_ratio,\n",
    "        'pulse_time': time,\n",
    "        'omega': omega_0,\n",
    "        'delta': delta_0,\n",
    "        'kappa': kappa,\n",
    "        'efficiency': final_eff\n",
    "    }"
   ]
  },
  {
   "cell_type": "code",
   "execution_count": 8,
   "metadata": {},
   "outputs": [],
   "source": [
    "total_cores = multiprocessing.cpu_count()\n",
    "if total_cores > 60:\n",
    "    num_cores = 60\n",
    "else:\n",
    "    num_cores = total_cores"
   ]
  },
  {
   "cell_type": "code",
   "execution_count": 9,
   "metadata": {},
   "outputs": [
    {
     "name": "stderr",
     "output_type": "stream",
     "text": [
      "100%|██████████| 20/20 [02:58<00:00,  8.94s/it]\n"
     ]
    },
    {
     "name": "stdout",
     "output_type": "stream",
     "text": [
      "time_[0.5gamma^-1,20gamma^-1]_g_[1,20]_kappa=1_sin^2.pickle\n"
     ]
    },
    {
     "name": "stderr",
     "output_type": "stream",
     "text": [
      "100%|██████████| 20/20 [02:11<00:00,  6.59s/it]\n"
     ]
    },
    {
     "name": "stdout",
     "output_type": "stream",
     "text": [
      "time_[0.5gamma^-1,20gamma^-1]_g_[1,20]_kappa=1_sin^2.pickle\n"
     ]
    },
    {
     "name": "stderr",
     "output_type": "stream",
     "text": [
      "100%|██████████| 20/20 [02:09<00:00,  6.47s/it]\n"
     ]
    },
    {
     "name": "stdout",
     "output_type": "stream",
     "text": [
      "time_[0.5gamma^-1,20gamma^-1]_g_[1,20]_kappa=1_sin^2.pickle\n"
     ]
    },
    {
     "name": "stderr",
     "output_type": "stream",
     "text": [
      "100%|██████████| 20/20 [02:11<00:00,  6.57s/it]\n"
     ]
    },
    {
     "name": "stdout",
     "output_type": "stream",
     "text": [
      "time_[0.5gamma^-1,20gamma^-1]_g_[1,20]_kappa=1_sin^2.pickle\n"
     ]
    },
    {
     "name": "stderr",
     "output_type": "stream",
     "text": [
      "100%|██████████| 20/20 [02:12<00:00,  6.60s/it]\n"
     ]
    },
    {
     "name": "stdout",
     "output_type": "stream",
     "text": [
      "time_[0.5gamma^-1,20gamma^-1]_g_[1,20]_kappa=1_sin^2.pickle\n"
     ]
    },
    {
     "name": "stderr",
     "output_type": "stream",
     "text": [
      "100%|██████████| 20/20 [02:10<00:00,  6.54s/it]\n"
     ]
    },
    {
     "name": "stdout",
     "output_type": "stream",
     "text": [
      "time_[0.5gamma^-1,20gamma^-1]_g_[1,20]_kappa=1_sin^2.pickle\n"
     ]
    },
    {
     "name": "stderr",
     "output_type": "stream",
     "text": [
      "100%|██████████| 20/20 [02:07<00:00,  6.37s/it]\n"
     ]
    },
    {
     "name": "stdout",
     "output_type": "stream",
     "text": [
      "time_[0.5gamma^-1,20gamma^-1]_g_[1,20]_kappa=1_sin^2.pickle\n"
     ]
    },
    {
     "name": "stderr",
     "output_type": "stream",
     "text": [
      "100%|██████████| 20/20 [02:08<00:00,  6.43s/it]\n"
     ]
    },
    {
     "name": "stdout",
     "output_type": "stream",
     "text": [
      "time_[0.5gamma^-1,20gamma^-1]_g_[1,20]_kappa=1_sin^2.pickle\n"
     ]
    },
    {
     "name": "stderr",
     "output_type": "stream",
     "text": [
      "100%|██████████| 20/20 [02:08<00:00,  6.41s/it]\n"
     ]
    },
    {
     "name": "stdout",
     "output_type": "stream",
     "text": [
      "time_[0.5gamma^-1,20gamma^-1]_g_[1,20]_kappa=1_sin^2.pickle\n"
     ]
    },
    {
     "name": "stderr",
     "output_type": "stream",
     "text": [
      "100%|██████████| 20/20 [02:06<00:00,  6.32s/it]\n"
     ]
    },
    {
     "name": "stdout",
     "output_type": "stream",
     "text": [
      "time_[0.5gamma^-1,20gamma^-1]_g_[1,20]_kappa=1_sin^2.pickle\n"
     ]
    },
    {
     "name": "stderr",
     "output_type": "stream",
     "text": [
      "100%|██████████| 20/20 [01:12<00:00,  3.63s/it]\n"
     ]
    },
    {
     "name": "stdout",
     "output_type": "stream",
     "text": [
      "time_[0.5gamma^-1,20gamma^-1]_g_[1,20]_kappa=1_sin^2.pickle\n"
     ]
    },
    {
     "name": "stderr",
     "output_type": "stream",
     "text": [
      "100%|██████████| 20/20 [01:13<00:00,  3.68s/it]\n"
     ]
    },
    {
     "name": "stdout",
     "output_type": "stream",
     "text": [
      "time_[0.5gamma^-1,20gamma^-1]_g_[1,20]_kappa=1_sin^2.pickle\n"
     ]
    },
    {
     "name": "stderr",
     "output_type": "stream",
     "text": [
      "100%|██████████| 20/20 [01:20<00:00,  4.02s/it]\n"
     ]
    },
    {
     "name": "stdout",
     "output_type": "stream",
     "text": [
      "time_[0.5gamma^-1,20gamma^-1]_g_[1,20]_kappa=1_sin^2.pickle\n"
     ]
    },
    {
     "name": "stderr",
     "output_type": "stream",
     "text": [
      "100%|██████████| 20/20 [01:23<00:00,  4.18s/it]\n"
     ]
    },
    {
     "name": "stdout",
     "output_type": "stream",
     "text": [
      "time_[0.5gamma^-1,20gamma^-1]_g_[1,20]_kappa=1_sin^2.pickle\n"
     ]
    },
    {
     "name": "stderr",
     "output_type": "stream",
     "text": [
      "100%|██████████| 20/20 [01:16<00:00,  3.83s/it]\n"
     ]
    },
    {
     "name": "stdout",
     "output_type": "stream",
     "text": [
      "time_[0.5gamma^-1,20gamma^-1]_g_[1,20]_kappa=1_sin^2.pickle\n"
     ]
    },
    {
     "name": "stderr",
     "output_type": "stream",
     "text": [
      "100%|██████████| 20/20 [00:47<00:00,  2.37s/it]\n"
     ]
    },
    {
     "name": "stdout",
     "output_type": "stream",
     "text": [
      "time_[0.5gamma^-1,20gamma^-1]_g_[1,20]_kappa=1_sin^2.pickle\n"
     ]
    },
    {
     "name": "stderr",
     "output_type": "stream",
     "text": [
      "100%|██████████| 20/20 [01:16<00:00,  3.81s/it]\n"
     ]
    },
    {
     "name": "stdout",
     "output_type": "stream",
     "text": [
      "time_[0.5gamma^-1,20gamma^-1]_g_[1,20]_kappa=1_sin^2.pickle\n"
     ]
    },
    {
     "name": "stderr",
     "output_type": "stream",
     "text": [
      "100%|██████████| 20/20 [01:27<00:00,  4.39s/it]\n"
     ]
    },
    {
     "name": "stdout",
     "output_type": "stream",
     "text": [
      "time_[0.5gamma^-1,20gamma^-1]_g_[1,20]_kappa=1_sin^2.pickle\n"
     ]
    },
    {
     "name": "stderr",
     "output_type": "stream",
     "text": [
      "100%|██████████| 20/20 [00:42<00:00,  2.13s/it]\n"
     ]
    },
    {
     "name": "stdout",
     "output_type": "stream",
     "text": [
      "time_[0.5gamma^-1,20gamma^-1]_g_[1,20]_kappa=1_sin^2.pickle\n"
     ]
    },
    {
     "name": "stderr",
     "output_type": "stream",
     "text": [
      "100%|██████████| 20/20 [01:17<00:00,  3.90s/it]\n"
     ]
    },
    {
     "name": "stdout",
     "output_type": "stream",
     "text": [
      "time_[0.5gamma^-1,20gamma^-1]_g_[1,20]_kappa=1_sin^2.pickle\n"
     ]
    }
   ],
   "source": [
    "\n",
    "first_time = True\n",
    "input_args = []\n",
    "output_list = []\n",
    "\n",
    "for j in range(len(pulse_times)):\n",
    "    input_args.append([[g_ratios[k], 100, 0, kappa, pulse_times[j]]for k in range(len(g_ratios))])\n",
    "\n",
    "for input_set in input_args:\n",
    "\n",
    "    if not first_time:\n",
    "\n",
    "        for k in range(len(g_ratios)):\n",
    "            input_set[k][1] = processed_list[k]['omega']\n",
    "    \n",
    "    if __name__ == \"__main__\":\n",
    "        inputs = tqdm(input_set)\n",
    "        processed_list = Parallel(n_jobs=num_cores)(delayed(optimiser)(i) for i in inputs)\n",
    "        output_list.append(processed_list)\n",
    "        save_obj(output_list, 'time_[{}gamma^-1,{}gamma^-1]_g_[{},{}]_kappa={}_sin^2'.format(t_min,t_max,g_min,g_max,kappa_str))\n",
    "    first_time = False\n",
    "\n"
   ]
  },
  {
   "cell_type": "code",
   "execution_count": 20,
   "metadata": {},
   "outputs": [
    {
     "data": {
      "text/plain": [
       "Text(0, 0.5, '$T \\\\kappa$')"
      ]
     },
     "execution_count": 20,
     "metadata": {},
     "output_type": "execute_result"
    },
    {
     "data": {
      "image/png": "[encoded data removed]",
      "text/plain": [
       "<Figure size 1800x600 with 4 Axes>"
      ]
     },
     "metadata": {},
     "output_type": "display_data"
    }
   ],
   "source": [
    "NUM_CONTS = 30\n",
    "times = [time*gamma for time in pulse_times]\n",
    "\n",
    "def C(g_ratio, kappa):\n",
    "    return g_ratio**2/(2*kappa/(2*np.pi))\n",
    "\n",
    "load_obj_str='time_[{0}gamma^-1,{1}gamma^-1]_g_[{2},{3}]_kappa={4}_sin^2.pickle'.format(t_min,t_max,g_min,g_max,kappa_str)\n",
    "\n",
    "data = load_obj('time_[0gamma^-1,1gamma^-1]_g_[2,3]_kappa=4_sin^2.pickle')\n",
    "\n",
    "effs = [[data[j][k]['efficiency'] for k in range(len(g_ratios))] for j in range(len(times))]\n",
    "omegas = [[data[j][k]['omega'] for k in range(len(g_ratios))] for j in range(len(times))]\n",
    "bench = [[2*C(g, kappa)/(2*C(g,kappa)+1) for g in g_ratios] for t in times]\n",
    "diff_effs = [[effs[j][k] - bench[j][k] for k in range(len(g_ratios))] for j in range(len(times))]\n",
    "C_ratios = [[effs[j][k]/(2*C(g_ratios[k], kappa)*(1-effs[j][k])) for k in range(len(g_ratios))] for j in range(len(g_ratios))]\n",
    "\n",
    "X, Y = np.meshgrid(g_ratios, times)\n",
    "fig,[a1,a2] = plt.subplots(1,2)\n",
    "fig.set_size_inches(18,6)\n",
    "\n",
    "cp1 = a1.contourf(X,Y, effs, levels=NUM_CONTS)\n",
    "cb1 = fig.colorbar(cp1)\n",
    "cb1.set_label('Efficiency')\n",
    "a1.set_xlabel('$g_0/\\gamma$')\n",
    "a1.set_ylabel('$T \\kappa$')\n",
    "\n",
    "\n",
    "cp2 = a2.contourf(X,Y, omegas,levels=30)\n",
    "cb2 = fig.colorbar(cp2)\n",
    "cb2.set_label('Omega')\n",
    "a2.set_xlabel('$g_0/\\gamma$')\n",
    "a2.set_ylabel('$T \\kappa$')\n",
    "\n",
    "\n"
   ]
  }
 ],
 "metadata": {
  "kernelspec": {
   "display_name": "qutip3.9",
   "language": "python",
   "name": "python3"
  },
  "language_info": {
   "codemirror_mode": {
    "name": "ipython",
    "version": 3
   },
   "file_extension": ".py",
   "mimetype": "text/x-python",
   "name": "python",
   "nbconvert_exporter": "python",
   "pygments_lexer": "ipython3",
   "version": "3.9.16"
  },
  "orig_nbformat": 4,
  "vscode": {
   "interpreter": {
    "hash": "72b2c007d8fe8937170a61f69fbdc2ca2ee74fedda5b1aa44f66606dca024895"
   }
  }
 },
 "nbformat": 4,
 "nbformat_minor": 2
}
