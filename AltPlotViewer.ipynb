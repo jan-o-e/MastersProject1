{
 "cells": [
  {
   "cell_type": "code",
   "execution_count": 1,
   "metadata": {},
   "outputs": [],
   "source": [
    "import pickle\n",
    "import numpy as np\n",
    "import matplotlib.pyplot as plt\n",
    "\n",
    "def load_obj(file):\n",
    "    with open(file, 'rb') as f:\n",
    "        return pickle.load(f)"
   ]
  },
  {
   "cell_type": "code",
   "execution_count": 2,
   "metadata": {},
   "outputs": [],
   "source": [
    "gamma = 2*np.pi\n",
    "\n",
    "raw_dat = []\n",
    "ratios = [0.1,1,10,100]\n",
    "for ratio in ratios:\n",
    "\n",
    "    raw_dat.append(load_obj(f'2D time variance kappa = {ratio}gamma.pickle'))"
   ]
  },
  {
   "cell_type": "code",
   "execution_count": 3,
   "metadata": {},
   "outputs": [
    {
     "ename": "NameError",
     "evalue": "name 'times' is not defined",
     "output_type": "error",
     "traceback": [
      "\u001b[1;31m---------------------------------------------------------------------------\u001b[0m",
      "\u001b[1;31mNameError\u001b[0m                                 Traceback (most recent call last)",
      "\u001b[1;32m~\\AppData\\Local\\Temp/ipykernel_2344/643821952.py\u001b[0m in \u001b[0;36m<module>\u001b[1;34m\u001b[0m\n\u001b[0;32m     11\u001b[0m         \u001b[1;32mreturn\u001b[0m \u001b[0mg_ratio\u001b[0m\u001b[1;33m**\u001b[0m\u001b[1;36m2\u001b[0m\u001b[1;33m/\u001b[0m\u001b[1;33m(\u001b[0m\u001b[1;36m2\u001b[0m\u001b[1;33m*\u001b[0m\u001b[0mratios\u001b[0m\u001b[1;33m[\u001b[0m\u001b[0mk\u001b[0m\u001b[1;33m]\u001b[0m\u001b[1;33m)\u001b[0m\u001b[1;33m\u001b[0m\u001b[1;33m\u001b[0m\u001b[0m\n\u001b[0;32m     12\u001b[0m \u001b[1;33m\u001b[0m\u001b[0m\n\u001b[1;32m---> 13\u001b[1;33m     \u001b[0mbench_effs\u001b[0m \u001b[1;33m=\u001b[0m \u001b[1;33m[\u001b[0m\u001b[1;33m[\u001b[0m\u001b[1;36m2\u001b[0m\u001b[1;33m*\u001b[0m\u001b[0mC\u001b[0m\u001b[1;33m(\u001b[0m\u001b[0mg_ratio\u001b[0m\u001b[1;33m)\u001b[0m\u001b[1;33m/\u001b[0m\u001b[1;33m(\u001b[0m\u001b[1;36m2\u001b[0m\u001b[1;33m*\u001b[0m\u001b[0mC\u001b[0m\u001b[1;33m(\u001b[0m\u001b[0mg_ratio\u001b[0m\u001b[1;33m)\u001b[0m\u001b[1;33m+\u001b[0m\u001b[1;36m1\u001b[0m\u001b[1;33m)\u001b[0m \u001b[1;32mfor\u001b[0m \u001b[0mg_ratio\u001b[0m \u001b[1;32min\u001b[0m \u001b[0mg_ratios\u001b[0m\u001b[1;33m]\u001b[0m \u001b[1;32mfor\u001b[0m \u001b[0mtime\u001b[0m \u001b[1;32min\u001b[0m \u001b[0mtimes\u001b[0m\u001b[1;33m]\u001b[0m\u001b[1;33m\u001b[0m\u001b[1;33m\u001b[0m\u001b[0m\n\u001b[0m\u001b[0;32m     14\u001b[0m     \u001b[0mdiff_effs\u001b[0m \u001b[1;33m=\u001b[0m \u001b[1;33m[\u001b[0m\u001b[1;33m[\u001b[0m\u001b[0meffs\u001b[0m\u001b[1;33m[\u001b[0m\u001b[0mi\u001b[0m\u001b[1;33m]\u001b[0m\u001b[1;33m[\u001b[0m\u001b[0mj\u001b[0m\u001b[1;33m]\u001b[0m \u001b[1;33m-\u001b[0m \u001b[0mbench_effs\u001b[0m\u001b[1;33m[\u001b[0m\u001b[0mi\u001b[0m\u001b[1;33m]\u001b[0m\u001b[1;33m[\u001b[0m\u001b[0mj\u001b[0m\u001b[1;33m]\u001b[0m \u001b[1;32mfor\u001b[0m \u001b[0mj\u001b[0m \u001b[1;32min\u001b[0m \u001b[0mrange\u001b[0m\u001b[1;33m(\u001b[0m\u001b[0mlen\u001b[0m\u001b[1;33m(\u001b[0m\u001b[0mg_ratios\u001b[0m\u001b[1;33m)\u001b[0m\u001b[1;33m)\u001b[0m\u001b[1;33m]\u001b[0m \u001b[1;32mfor\u001b[0m \u001b[0mi\u001b[0m \u001b[1;32min\u001b[0m \u001b[0mrange\u001b[0m\u001b[1;33m(\u001b[0m\u001b[0mlen\u001b[0m\u001b[1;33m(\u001b[0m\u001b[0mtimes\u001b[0m\u001b[1;33m)\u001b[0m\u001b[1;33m)\u001b[0m\u001b[1;33m]\u001b[0m\u001b[1;33m\u001b[0m\u001b[1;33m\u001b[0m\u001b[0m\n\u001b[0;32m     15\u001b[0m \u001b[1;33m\u001b[0m\u001b[0m\n",
      "\u001b[1;31mNameError\u001b[0m: name 'times' is not defined"
     ]
    }
   ],
   "source": [
    "NUM_CONTS = 20\n",
    "\n",
    "for k in range(len(ratios)):\n",
    "    data = raw_dat[k]\n",
    "    g_ratios = [data[0][j]['g_ratio'] for j in range(len(data[0]))]\n",
    "    times = [data[j][0]['time'] for j in range(len(data))]\n",
    "    kappa_times = [data[j][0]['time']*ratios[k]*2*np.pi for j in range(len(data))]\n",
    "    effs = [[data[i][j]['efficiency'] for j in range(len(data[i]))] for i in range(len(data))]\n",
    "    errs = [[1 - data[i][j]['efficiency'] for j in range(len(data[i]))] for i in range(len(data))]\n",
    "\n",
    "    def C(g_ratio):\n",
    "        return g_ratio**2/(2*ratios[k])\n",
    "\n",
    "    bench_effs = [[2*C(g_ratio)/(2*C(g_ratio)+1) for g_ratio in g_ratios] for time in times]\n",
    "    diff_effs = [[effs[i][j] - bench_effs[i][j] for j in range(len(g_ratios))] for i in range(len(times))]\n",
    "\n",
    "    "
   ]
  },
  {
   "cell_type": "code",
   "execution_count": null,
   "metadata": {},
   "outputs": [],
   "source": [
    "X,Y = np.meshgrid(g_ratios, kappa_times)\n",
    "\n",
    "fig, [ax1, ax2]  = plt.subplots(1,2)\n",
    "cp = ax1.contourf(X,Y,effs, levels=NUM_CONTS)\n",
    "ax1.contour(X,Y,diff_effs, [0],colors='k')\n",
    "ax1.set_xscale('log')\n",
    "ax1.set_yscale('log')\n",
    "ax1.set_ylabel('$\\kappa T$')\n",
    "ax1.set_xlabel('$g_0/\\gamma$')\n",
    "cbar = fig.colorbar(cp)\n",
    "cbar.set_label('Efficiency')\n",
    "\n",
    "cp2 = ax2.contourf(X,Y,errs, levels=NUM_CONTS)\n",
    "    # ax2.contour(X,Y,diff_effs, [0],colors='k')\n",
    "ax2.set_xscale('log')\n",
    "ax2.set_yscale('log')\n",
    "ax2.set_ylabel('$\\kappa T$')\n",
    "ax2.set_xlabel('$g_0/\\gamma$')\n",
    "cbar2 = fig.colorbar(cp2)\n",
    "cbar2.set_label('$\\epsilon$')\n",
    "\n",
    "fig.set_size_inches(16,8)"
   ]
  },
  {
   "cell_type": "code",
   "execution_count": 24,
   "metadata": {},
   "outputs": [],
   "source": [
    "\n",
    "\n",
    "for inde in range(len(time))\n",
    "    g_rat = [raw_dat[0][inde][j]['efficiency'] for j in range(len(raw_dat[0][0]))]\n",
    "    indices = []\n",
    "    for k in range(len(g_rat)):\n",
    "        C = 5*raw_dat[0][0][k]['g_ratio']**2\n",
    "        if g_rat[k] <= 2*C/(2*C+1):\n",
    "            indices.append(False)\n",
    "        else:\n",
    "            indices.append(True)"
   ]
  },
  {
   "cell_type": "code",
   "execution_count": 27,
   "metadata": {},
   "outputs": [
    {
     "name": "stdout",
     "output_type": "stream",
     "text": [
      "[0.9995002498750625, 0.9995992074339132, 0.9996785763047011, 0.9997422318271323, 0.9997932834634616, 0.9998342258711014, 0.9998670602778958, 0.9998933919612334, 0.9999145085120855, 0.9999314426565126, 0.99994502267192, 0.9999559128414537, 0.9999646459108965, 0.9999716491265204, 0.9999772651217337, 0.9999817686705443, 0.9999853801250528, 0.9999882761928536, 0.9999905985806548, 0.999992460926392, 0.9999939543586122, 0.999995151954885, 0.9999961123172292, 0.9999968824393972, 0.99999750000625]\n",
      "[0.15096337057949377, 0.17572674737299562, 0.19460320587906013, 0.21352542920900208, 0.2318030703406572, 0.20469812657116024, 0.22076452600967206, 0.23827217700556683, 0.2980282851644616, 0.2725850976505081, 0.29411134442694725, 0.31448804240930683, 0.3350894161840915, 0.35592836233715275, 0.37574950933206464, 0.3962908281486928, 0.41522504985037706, 0.43356515240884885, 0.45090924070772737, 0.4670530070270213, 0.48228319132382247, 0.49621698430647115, 0.5090444344463031, 0.5207280117492651, 0.531441563015819]\n"
     ]
    }
   ],
   "source": []
  },
  {
   "cell_type": "code",
   "execution_count": 28,
   "metadata": {},
   "outputs": [
    {
     "name": "stdout",
     "output_type": "stream",
     "text": [
      "0\n"
     ]
    }
   ],
   "source": []
  },
  {
   "cell_type": "code",
   "execution_count": null,
   "metadata": {},
   "outputs": [],
   "source": []
  }
 ],
 "metadata": {
  "kernelspec": {
   "display_name": "Python 3",
   "language": "python",
   "name": "python3"
  },
  "language_info": {
   "codemirror_mode": {
    "name": "ipython",
    "version": 3
   },
   "file_extension": ".py",
   "mimetype": "text/x-python",
   "name": "python",
   "nbconvert_exporter": "python",
   "pygments_lexer": "ipython3",
   "version": "3.9.6"
  },
  "orig_nbformat": 4
 },
 "nbformat": 4,
 "nbformat_minor": 2
}
