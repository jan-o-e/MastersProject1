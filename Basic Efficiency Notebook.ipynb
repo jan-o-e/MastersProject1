{
 "cells": [
  {
   "cell_type": "code",
   "execution_count": 3,
   "metadata": {},
   "outputs": [],
   "source": [
    "from qutip import *\n",
    "import numpy as np\n",
    "import matplotlib.pyplot as plt\n",
    "import cython\n",
    "\n",
    "# define dimension of truncated Fock basis\n",
    "NUM_FOCK_STATES = 2\n",
    "\n",
    "# define atomic basis states, defining a bin dimension to make it easier to define collapse operators\n",
    "atom_states = {\n",
    "    'bin': 0,\n",
    "    'gM': 1,\n",
    "    'gP': 2,\n",
    "    'x': 3\n",
    "}\n",
    "# count the number of atomic energy levels\n",
    "NUM_ATOMIC = len(atom_states)\n",
    "\n",
    "# name allowed polarisation states:\n",
    "#   * p1 = sigP, H or X\n",
    "#   * p2 = sigM, V or Y\n",
    "#   * p3 = pi, C or Z\n",
    "pol_states = {\n",
    "    'p1': 0,\n",
    "    'p2': 1,\n",
    "    'p3': 2,\n",
    "    'nopol': 3\n",
    "    }\n",
    "# count the number of polarisation states\n",
    "NUM_POL = len(pol_states)\n",
    "\n",
    "# define ket and bra functions (named to avoid confusion with inbuilt functions)\n",
    "\n",
    "def cust_ket(atom_state, photon_num, pol_state):\n",
    "    # takes the direct product of each state to create a single state in the wider direct product space\n",
    "    return tensor(basis(NUM_ATOMIC, atom_states[atom_state]), basis(NUM_FOCK_STATES, photon_num), basis(NUM_POL, pol_states[pol_state]))\n",
    "\n",
    "def cust_bra(atom_state, photon_num, polarisation):\n",
    "    return cust_ket(atom_state, photon_num, polarisation).dag()\n",
    "\n",
    "# initialise ket and bra lists\n",
    "kets = {}\n",
    "bras = {}\n",
    "\n",
    "# define each possible basis state from the lists of the atomic levels, possible numbers of cavity photons and polarisation states\n",
    "for a_state in atom_states:\n",
    "    for p_num in range(NUM_FOCK_STATES):\n",
    "        for pol in pol_states:\n",
    "    \n",
    "            kets[f'{a_state}_{p_num}_{pol}'] = cust_ket(a_state, p_num, pol)\n",
    "            bras[f'{a_state}_{p_num}_{pol}'] = cust_bra(a_state, p_num, pol)\n",
    "\n",
    "# define all possible ketbras and compile into list\n",
    "ketbras = {}\n",
    "for kkey in kets:\n",
    "    for bkey in bras:\n",
    "        ketbras[f'{kkey}_X_{bkey}'] = kets[kkey] * bras[bkey]\n",
    "\n",
    "# define initial state\n",
    "\n",
    "# define any applicable polarisation of the initial state\n",
    "pol0 = [0,1,0]\n",
    "pol_norm = sum([pol**2 for pol in pol0]) ** 0.5\n",
    "\n",
    "# define idealised levels g, u and e\n",
    "g_ket = 1/pol_norm * (pol0[0]*kets['gM_1_p1'] + pol0[1]*kets['gM_1_p2'] + pol0[2]*kets['gM_1_p3'])\n",
    "u_ket = kets['gP_0_nopol']\n",
    "e_ket = kets['x_0_nopol']\n",
    "\n",
    "# define dressed state expectation ops\n",
    "\n",
    "# initialise list\n",
    "atom_ops = {}\n",
    "# add to list operators with the form of a sum of density matrices of pure states with the sum being across all \n",
    "# polarisation states as these operators are for measuring the dressed state of the system irrespective of photon polarisation\n",
    "for level in atom_states:\n",
    "    for p_num in range(NUM_FOCK_STATES):\n",
    "        # atom_ops[f'{level}_{p_num}_op'] = sum([ketbras[f'{level}_{p_num}_{pol}_X_{level}_{p_num}_{pol}'] for pol in pol_states])\n",
    "        atom_ops[f'{level}_{p_num}_op'] = tensor(fock_dm(NUM_ATOMIC, atom_states[level]), fock_dm(NUM_FOCK_STATES, p_num), qeye(NUM_POL))\n",
    "\n",
    "# define cavity decay operator\n",
    "cav_annihilation = tensor(qeye(NUM_ATOMIC), destroy(NUM_FOCK_STATES), fock_dm(NUM_POL, 0) + fock_dm(NUM_POL, 1))\n",
    "\n",
    "# spontaneous decay, |x,0> --> |gM,0>\n",
    "x_decay = tensor(basis(NUM_ATOMIC, 1)*basis(NUM_ATOMIC,3).dag(), qeye(NUM_FOCK_STATES), qeye(NUM_POL))\n",
    "\n",
    "# define Hamiltonian suboperators\n",
    "# ground states density matrices\n",
    "gM_dm = tensor(fock_dm(NUM_ATOMIC, 1), fock_dm(NUM_FOCK_STATES, 1), qeye(NUM_POL))\n",
    "gP_dm = tensor(fock_dm(NUM_ATOMIC, 2), fock_dm(NUM_FOCK_STATES, 0), qeye(NUM_POL))\n",
    "\n",
    "# ground states to excited state operators\n",
    "# gP_x_swap = tensor(basis(NUM_ATOMIC, 3)*basis(NUM_ATOMIC, 2).dag(), fock_dm(NUM_FOCK_STATES,0), fock_dm(NUM_POL,3))\n",
    "# gM_x_swap = tensor(basis(NUM_ATOMIC, 3)*basis(NUM_ATOMIC,1).dag(), basis(NUM_FOCK_STATES,0)*basis(NUM_FOCK_STATES, 1).dag(), basis(NUM_POL,3)*basis(NUM_POL,1).dag())\n",
    "gM_x_swap = ketbras['x_0_nopol_X_gM_1_p2']\n",
    "gP_x_swap = ketbras['x_0_nopol_X_gP_0_nopol']\n",
    "\n",
    "RUNTIME = 100\n",
    "NUM_STEPS = 10001\n",
    "t = np.linspace(0, RUNTIME, NUM_STEPS)\n",
    "\n",
    "# define pulse shape\n",
    "wSTIRAP = np.pi/RUNTIME\n",
    "H_args = {\n",
    "    'wSTIRAP': wSTIRAP\n",
    "}\n",
    "pulse_shape = 'np.sin(wSTIRAP*t)**2'\n",
    "\n",
    "def find_dark_state_efficency(corporativity, peak_rabi_ratio):\n",
    "    \n",
    "    C = corporativity\n",
    "    kappa = 2*np.pi * 0.1\n",
    "    gamma = 2*np.pi * 0.01\n",
    "    delta = 0\n",
    "    delta_C = delta\n",
    "    delta_L = delta\n",
    "\n",
    "    g0 = (kappa*gamma*C)**0.5\n",
    "    omega = peak_rabi_ratio*g0**2\n",
    "\n",
    "    theta = np.arctan(omega/(2*g0))\n",
    "    psi0 = np.cos(theta)*u_ket - np.sin(theta)*g_ket\n",
    "\n",
    "    c_ops = [np.sqrt(gamma)*x_decay, np.sqrt(kappa)*cav_annihilation]\n",
    "\n",
    "    H0 = delta_C*gM_dm + delta_L*gP_dm -g0*(gM_x_swap + gM_x_swap.dag())\n",
    "    H1 = -omega/2*(gP_x_swap + gP_x_swap.dag())\n",
    "    H = [H0, [H1, pulse_shape]]\n",
    "    \n",
    "    result = mesolve(H, psi0, t, c_ops, [], args = H_args)\n",
    "    \n",
    "    # find cavity decay probability\n",
    "    photon_op = sum([ketbras[f'gM_0_{pol}_X_gM_0_{pol}'] for pol in ['p1','p2','p3']])\n",
    "    spont_decay_op = ketbras['gM_0_nopol_X_gM_0_nopol']\n",
    "    photon_emission_prob = expect(photon_op, result.states[-1])\n",
    "    spont_decay_prob = expect(spont_decay_op, result.states[-1])\n",
    "\n",
    "    return photon_emission_prob/(photon_emission_prob+spont_decay_prob)"
   ]
  },
  {
   "cell_type": "code",
   "execution_count": 7,
   "metadata": {},
   "outputs": [],
   "source": [
    "corps = np.logspace(0, 3, 50)\n",
    "rabi_ratios = [1]\n",
    "\n",
    "efficiencies = []\n",
    "bench1 = []\n",
    "bench2 = []\n",
    "\n",
    "for corp in corps:\n",
    "    bench1.append(2*corp/(2*corp+1))\n",
    "    bench2.append(8*corp/(8*corp+1))\n",
    "\n",
    "for ratio in rabi_ratios:\n",
    "    ratio_efficiencies = []\n",
    "    for corp in corps:\n",
    "        ratio_efficiencies.append(find_dark_state_efficency(corp, ratio))\n",
    "    efficiencies.append(ratio_efficiencies)\n",
    "\n",
    "\n",
    "fig, axes = plt.subplots(1,1)\n",
    "axes.plot(corps, bench1)\n",
    "axes.plot(corps, bench2)\n",
    "for ratio_data in efficiencies:\n",
    "    axes.plot(corps, ratio_data, '--')\n",
    "\n",
    "\n",
    "axes.set_xlabel('C')\n",
    "axes.set_ylabel('Efficiency')\n",
    "\n",
    "legends = ['2C/(2C+1)', '8C/(8C+1)'] + [str(ratio) for ratio in rabi_ratios]\n",
    "fig.legend(legends)\n"
   ]
  },
  {
   "cell_type": "code",
   "execution_count": null,
   "metadata": {},
   "outputs": [
    {
     "data": {
      "text/plain": [
       "<matplotlib.legend.Legend at 0x162ccfea860>"
      ]
     },
     "execution_count": 5,
     "metadata": {},
     "output_type": "execute_result"
    },
    {
     "data": {
      "image/png": "[encoded data removed]",
      "text/plain": [
       "<Figure size 432x288 with 1 Axes>"
      ]
     },
     "metadata": {
      "needs_background": "light"
     },
     "output_type": "display_data"
    }
   ],
   "source": [
    "fig, axes = plt.subplots(1,1)\n",
    "for ratio_efficicency in efficiencies:\n",
    "    axes.plot(corps, ratio_efficicency)\n",
    "axes.plot(corps, bench1)\n",
    "axes.plot(corps, bench2)\n",
    "\n",
    "axes.set_xlabel('C')\n",
    "axes.set_ylabel('Efficiency')\n",
    "axes.set_xbound(980, 1000)\n",
    "axes.set_ybound(0.99)\n",
    "fig.legend(['Efficiency', '2C/(2C+1)', '8C/(8C+1)'])"
   ]
  },
  {
   "cell_type": "code",
   "execution_count": null,
   "metadata": {},
   "outputs": [
    {
     "name": "stdout",
     "output_type": "stream",
     "text": [
      "[1, 2, 3, 4, 5, 6]\n"
     ]
    }
   ],
   "source": [
    "print([1,2,3]+[4,5,6])"
   ]
  },
  {
   "cell_type": "code",
   "execution_count": null,
   "metadata": {},
   "outputs": [],
   "source": []
  },
  {
   "cell_type": "code",
   "execution_count": null,
   "metadata": {},
   "outputs": [],
   "source": []
  }
 ],
 "metadata": {
  "kernelspec": {
   "display_name": "rbcqed",
   "language": "python",
   "name": "python3"
  },
  "language_info": {
   "codemirror_mode": {
    "name": "ipython",
    "version": 3
   },
   "file_extension": ".py",
   "mimetype": "text/x-python",
   "name": "python",
   "nbconvert_exporter": "python",
   "pygments_lexer": "ipython3",
   "version": "3.6.13"
  },
  "orig_nbformat": 4,
  "vscode": {
   "interpreter": {
    "hash": "e9c9e6f07e7e47fb8e8502dde65375e8e035c3ab29514f51a8f31ab281a7a465"
   }
  }
 },
 "nbformat": 4,
 "nbformat_minor": 2
}
