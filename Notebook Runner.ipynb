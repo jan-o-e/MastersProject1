{
 "cells": [
  {
   "cell_type": "code",
   "execution_count": 1,
   "metadata": {},
   "outputs": [],
   "source": [
    "from qutip import *\n",
    "import numpy as np\n",
    "import matplotlib.pyplot as plt"
   ]
  },
  {
   "cell_type": "code",
   "execution_count": 57,
   "metadata": {},
   "outputs": [],
   "source": [
    "# define the runtime and number of time steps\n",
    "RUNTIME = 1\n",
    "NUM_STEPS = 1001\n",
    "\n",
    "# define cavity coupling strength\n",
    "g0 = 2*np.pi * 1\n",
    "\n",
    "# define simulation time grid\n",
    "time_steps = np.linspace(0, RUNTIME, NUM_STEPS)\n",
    "\n",
    "# define decay rates\n",
    "kappa_H = 2*np.pi * 0 # horizontal polarisation decay out of cavity\n",
    "kappa_V = 2*np.pi * 0 # vertical polarisation out of cavity\n",
    "gamma = 2*np.pi * 0 # spontaneous decay of excited atom\n",
    "\n",
    "# define Raman detuning for photon production\n",
    "delta_offset_STIRAP = 2*np.pi * 1\n",
    "\n",
    "# define decouplings\n",
    "delta_C = delta_offset_STIRAP # cavity decoupling\n",
    "delta_L = delta_offset_STIRAP # laser decoupling\n",
    "\n",
    "# define the birefringence splitting of cavity modes\n",
    "deltaP = 2*np.pi * 0\n",
    "\n",
    "# define the laser frequency\n",
    "l_freq = 2.5*g0 - delta_L\n",
    "\n",
    "\n",
    "# define laser profile\n",
    "def rabi_freq(t, arg):\n",
    "    \n",
    "    return l_freq"
   ]
  },
  {
   "cell_type": "code",
   "execution_count": 58,
   "metadata": {},
   "outputs": [],
   "source": [
    "# define dimension of truncated Fock basis\n",
    "NUM_FOCK_STATES = 2\n",
    "\n",
    "# define atomic basis states, defining a bin dimension to make it easier to define collapse operators\n",
    "atom_states = {\n",
    "    'bin': 0,\n",
    "    'gM': 1,\n",
    "    'gP': 2,\n",
    "    'x': 3\n",
    "}\n",
    "# count the number of atomic energy levels\n",
    "NUM_ATOMIC = len(atom_states)\n",
    "\n",
    "# define quantisation axis, 'C', 'H', 'V'\n",
    "quant_axis = 'C'\n",
    "\n",
    "# name allowed polarisation states:\n",
    "#   * p1 = sigP, H or X\n",
    "#   * p2 = sigM, V or Y\n",
    "#   * p3 = pi, C or Z\n",
    "pol_states = {\n",
    "    'p1': 0,\n",
    "    'p2': 1,\n",
    "    'p3': 2,\n",
    "    'nopol': 3\n",
    "    }\n",
    "# count the number of polarisation states\n",
    "NUM_POL = len(pol_states)"
   ]
  },
  {
   "cell_type": "code",
   "execution_count": 59,
   "metadata": {},
   "outputs": [],
   "source": [
    "# define ket and bra functions (named to avoid confusion with inbuilt functions)\n",
    "\n",
    "def cust_ket(atom_state, photon_num, pol_state):\n",
    "    # takes the direct product of each state to create a single state in the wider direct product space\n",
    "    return tensor(basis(NUM_ATOMIC, atom_states[atom_state]), basis(NUM_FOCK_STATES, photon_num), basis(NUM_POL, pol_states[pol_state]))\n",
    "\n",
    "def cust_bra(atom_state, photon_num, polarisation):\n",
    "    return cust_ket(atom_state, photon_num, polarisation).dag()\n",
    "\n",
    "# initialise ket and bra lists\n",
    "kets = {}\n",
    "bras = {}\n",
    "\n",
    "# define each possible basis state from the lists of the atomic levels, possible numbers of cavity photons and polarisation states\n",
    "for a_state in atom_states:\n",
    "    for p_num in range(NUM_FOCK_STATES):\n",
    "        for pol in pol_states:\n",
    "    \n",
    "            kets[f'{a_state}_{p_num}_{pol}'] = cust_ket(a_state, p_num, pol)\n",
    "            bras[f'{a_state}_{p_num}_{pol}'] = cust_bra(a_state, p_num, pol)\n",
    "\n",
    "# define all possible ketbras and compile into list\n",
    "ketbras = {}\n",
    "for kkey in kets:\n",
    "    for bkey in bras:\n",
    "        ketbras[f'{kkey}_X_{bkey}'] = kets[kkey] * bras[bkey]\n"
   ]
  },
  {
   "cell_type": "code",
   "execution_count": 60,
   "metadata": {},
   "outputs": [
    {
     "name": "stdout",
     "output_type": "stream",
     "text": [
      "0.75\n",
      "0.6435011087932844\n",
      "0.6\n"
     ]
    }
   ],
   "source": [
    "# define initial state\n",
    "\n",
    "# define any applicable polarisation of the initial state\n",
    "pol0 = [0,1,0]\n",
    "pol_norm = sum([pol**2 for pol in pol0]) ** 0.5\n",
    "\n",
    "# define idealised levels g, u and e\n",
    "g_ket = 1/pol_norm * (pol0[0]*kets['gM_1_p1'] + pol0[1]*kets['gM_1_p2'] + pol0[2]*kets['gM_1_p3'])\n",
    "u_ket = kets['gP_0_nopol']\n",
    "e_ket = kets['x_0_nopol']\n",
    "\n",
    "# dark state calc\n",
    "print(l_freq/(2*g0))\n",
    "theta = np.arctan(l_freq/(2*g0))\n",
    "print(theta)\n",
    "sin_theta = np.sin(theta)\n",
    "cos_theta = np.cos(theta)\n",
    "psi0 = cos_theta*u_ket + sin_theta*g_ket\n",
    "\n",
    "print(sin_theta)"
   ]
  },
  {
   "cell_type": "code",
   "execution_count": 61,
   "metadata": {},
   "outputs": [],
   "source": [
    "# define atom-to-cavity polarisation basis changes {|pi>,|sigP>,|sigM>} --> {|H>,|V>,|C>} allowing for choice of\n",
    "# quantisation axis\n",
    "\n",
    "# if axis is C\n",
    "atom_to_cav_BC_C_pol_subspace = 1/(np.sqrt(2))*Qobj([\n",
    "    [1,1,0,0],\n",
    "    [1j,-1j,0,0],\n",
    "    [0,0,np.sqrt(2),0],\n",
    "    [0,0,0,np.sqrt(2)]\n",
    "])\n",
    "\n",
    "# if axis is V\n",
    "atom_to_cav_BC_V_pol_subspace = 1/(np.sqrt(2))*Qobj([\n",
    "    [1,0,1,0],\n",
    "    [1j,0,-1j,0],\n",
    "    [0,np.sqrt(2),0,0],\n",
    "    [0,0,0,np.sqrt(2)]\n",
    "])\n",
    "\n",
    "# if axis is H\n",
    "atom_to_cav_BC_H_pol_subspace = 1/(np.sqrt(2))*Qobj([\n",
    "    [0,1,1,0],\n",
    "    [0,1j,-1j,0],\n",
    "    [np.sqrt(2),0,0,0],\n",
    "    [0,0,0,np.sqrt(2)]\n",
    "])\n",
    "\n",
    "# use polarisation basis matrices above to define the respective operators on the fulll direct product space\n",
    "atom_to_cav_BC_C = tensor(qeye(NUM_ATOMIC), qeye(NUM_FOCK_STATES), atom_to_cav_BC_C_pol_subspace)\n",
    "atom_to_cav_BC_V = tensor(qeye(NUM_ATOMIC), qeye(NUM_FOCK_STATES), atom_to_cav_BC_V_pol_subspace)\n",
    "atom_to_cav_BC_H = tensor(qeye(NUM_ATOMIC), qeye(NUM_FOCK_STATES), atom_to_cav_BC_H_pol_subspace)\n",
    "\n",
    "# choose correct operator for the chosen quantisation axis\n",
    "if quant_axis == 'C':\n",
    "    atom_to_cav_BC = atom_to_cav_BC_C\n",
    "elif quant_axis == 'V':\n",
    "    atom_to_cav_BC = atom_to_cav_BC_V\n",
    "elif quant_axis == 'H':\n",
    "    atom_to_cav_BC = atom_to_cav_BC_H\n"
   ]
  },
  {
   "cell_type": "code",
   "execution_count": 62,
   "metadata": {},
   "outputs": [
    {
     "name": "stdout",
     "output_type": "stream",
     "text": [
      "0.36\n"
     ]
    }
   ],
   "source": [
    "# define dressed state expectation ops\n",
    "\n",
    "# initialise list\n",
    "atom_ops = {}\n",
    "# add to list operators with the form of a sum of density matrices of pure states with the sum being across all \n",
    "# polarisation states as these operators are for measuring the dressed state of the system irrespective of photon polarisation\n",
    "for level in atom_states:\n",
    "    for p_num in range(NUM_FOCK_STATES):\n",
    "        atom_ops[f'{level}_{p_num}_op'] = sum([ketbras[f'{level}_{p_num}_{pol}_X_{level}_{p_num}_{pol}'] for pol in pol_states])\n",
    "\n",
    "print(expect(atom_ops['gM_1_op'], psi0))\n",
    "\n",
    "# define collapse operators\n",
    "# cavity decay - this can happen for any state with p_num > 0, these are defined by the direct product of the identity\n",
    "# of the atomic levels space, the annihilation operator of the Fock space and the relevant density matrix in the\n",
    "# polarisation subspace\n",
    "H_annihilation = tensor(qeye(NUM_ATOMIC), destroy(NUM_FOCK_STATES), basis(NUM_POL, 0)*basis(NUM_POL,0).dag())\n",
    "V_annihilation = tensor(qeye(NUM_ATOMIC), destroy(NUM_FOCK_STATES), basis(NUM_POL, 1)*basis(NUM_POL,1).dag())\n",
    "# the overall decay operator is the sum of the square roots of the decay rates times the annihilation operators sandwiched\n",
    "# in a similarity transform in order for them to operate in the correct polarisation basis. The polarisation state is\n",
    "# unchanged so we keep account of the pol state of the emitted photon\n",
    "cav_decay_op = np.sqrt(kappa_H)*atom_to_cav_BC.dag()*H_annihilation*atom_to_cav_BC + np.sqrt(kappa_V)*atom_to_cav_BC.dag()*V_annihilation*atom_to_cav_BC\n",
    "\n",
    "# spontaneous decay, |x> --> |gM>\n",
    "x_decay = tensor(basis(NUM_ATOMIC, 1)*basis(NUM_ATOMIC,3).dag(), qeye(NUM_FOCK_STATES), qeye(NUM_POL))\n",
    "spont_decay_op = np.sqrt(gamma)*x_decay\n",
    "\n",
    "# compile collapse operators into a list\n",
    "c_ops = [spont_decay_op, cav_decay_op]\n"
   ]
  },
  {
   "cell_type": "code",
   "execution_count": 63,
   "metadata": {},
   "outputs": [
    {
     "data": {
      "text/plain": [
       "<matplotlib.legend.Legend at 0x214932c2d90>"
      ]
     },
     "execution_count": 63,
     "metadata": {},
     "output_type": "execute_result"
    },
    {
     "data": {
      "image/png": "[encoded data removed]",
      "text/plain": [
       "<Figure size 432x288 with 1 Axes>"
      ]
     },
     "metadata": {
      "needs_background": "light"
     },
     "output_type": "display_data"
    }
   ],
   "source": [
    "# define Hamiltonian suboperators\n",
    "# ground states density matrices\n",
    "gM_dm = sum([ketbras[f'gM_1_{pol}_X_gM_1_{pol}'] for pol in pol_states])\n",
    "gP_dm = sum([ketbras[f'gP_0_{pol}_X_gP_0_{pol}'] for pol in pol_states])\n",
    "\n",
    "# ground states to excited state operators\n",
    "gP_x_swap = tensor(basis(NUM_ATOMIC, 3)*basis(NUM_ATOMIC, 2).dag(), basis(NUM_FOCK_STATES,0)*basis(NUM_FOCK_STATES,0).dag(), qeye(NUM_POL))\n",
    "gM_x_swap = tensor(basis(NUM_ATOMIC, 3)*basis(NUM_ATOMIC,1).dag(), basis(NUM_FOCK_STATES,0)*basis(NUM_FOCK_STATES, 1).dag(), basis(NUM_POL,3)*basis(NUM_POL,1).dag())\n",
    "\n",
    "# off_res_gM_x_swap = sum([ketbras['x_0_p3_X_bgM_{pol}'] for pol in pol_states])\n",
    "# off_res_gP_x_swap = \n",
    "\n",
    "H0 = delta_C*gM_dm + delta_L*gP_dm - g0*(gM_x_swap + gM_x_swap.dag())\n",
    "H1 = -1/2*(gP_x_swap + gP_x_swap.dag())\n",
    "\n",
    "H = [H0, [H1, rabi_freq]]\n",
    "resultant_states = mesolve(H, psi0, time_steps, c_ops, [])\n",
    "\n",
    "# plot expectations of the measurements of each state\n",
    "fig, axes = plt.subplots(1,1)\n",
    "axes.plot(time_steps, expect(atom_ops['gM_1_op'], resultant_states.states))\n",
    "axes.plot(time_steps, expect(atom_ops['gP_0_op'], resultant_states.states))\n",
    "axes.plot(time_steps, expect(atom_ops['x_0_op'], resultant_states.states))\n",
    "    \n",
    "axes.set_xlabel('t')\n",
    "axes.set_ylabel('Probability')\n",
    "\n",
    "fig.legend(['gM','gP','x'])"
   ]
  },
  {
   "cell_type": "code",
   "execution_count": null,
   "metadata": {},
   "outputs": [],
   "source": []
  },
  {
   "cell_type": "code",
   "execution_count": null,
   "metadata": {},
   "outputs": [],
   "source": []
  },
  {
   "cell_type": "code",
   "execution_count": null,
   "metadata": {},
   "outputs": [],
   "source": []
  }
 ],
 "metadata": {
  "kernelspec": {
   "display_name": "Python 3.9.6 64-bit",
   "language": "python",
   "name": "python3"
  },
  "language_info": {
   "codemirror_mode": {
    "name": "ipython",
    "version": 3
   },
   "file_extension": ".py",
   "mimetype": "text/x-python",
   "name": "python",
   "nbconvert_exporter": "python",
   "pygments_lexer": "ipython3",
   "version": "3.9.6"
  },
  "orig_nbformat": 4,
  "vscode": {
   "interpreter": {
    "hash": "dae3ac56776b7f0c13ff2a66c89e689a0c1b66778b6723adca803d3092fc66a4"
   }
  }
 },
 "nbformat": 4,
 "nbformat_minor": 2
}
