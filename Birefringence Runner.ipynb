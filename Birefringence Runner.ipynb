{
 "cells": [
  {
   "cell_type": "code",
   "execution_count": 2,
   "metadata": {},
   "outputs": [],
   "source": [
    "from qutip import *\n",
    "import numpy as np\n",
    "import matplotlib.pyplot as plt\n",
    "import cython"
   ]
  },
  {
   "attachments": {},
   "cell_type": "markdown",
   "metadata": {},
   "source": [
    "### Basis"
   ]
  },
  {
   "cell_type": "code",
   "execution_count": 3,
   "metadata": {},
   "outputs": [],
   "source": [
    "atom_basis = {\n",
    "    'b': 0,\n",
    "    'g': 1,\n",
    "    'u': 2,\n",
    "    'x': 3\n",
    "}\n",
    "NUM_ATOM = len(atom_basis)\n",
    "\n",
    "# polarisation states left with generic labels since we use the same compuational basis to represent multiple bases\n",
    "pol_basis = {\n",
    "    'p0': 0,\n",
    "    'p1': 1,\n",
    "    'p2': 2\n",
    "}\n",
    "NUM_POL = pol_basis\n",
    "\n",
    "\n",
    "def def_ket(atom_state, pol_state):\n",
    "    return tensor(basis(NUM_ATOM, atom_basis[atom_state]), basis(NUM_POL, pol_basis[pol_state]))\n",
    "\n",
    "\n",
    "def def_bra(atom_state, pol_state):\n",
    "    return def_ket(atom_state, pol_state).dag()\n",
    "\n",
    "\n",
    "kets = {}\n",
    "bras = {}\n",
    "\n",
    "for a_state in atom_basis:\n",
    "    for p_state in pol_basis:\n",
    "        kets[f'{a_state}_{p_state}'] = def_ket(a_state, p_state)\n",
    "        bras[f'{a_state}_{p_state}'] = def_bra(a_state, p_state)\n",
    "\n",
    "ketbras = {}\n",
    "\n",
    "for kkey in kets:\n",
    "    for bkey in bras:\n",
    "        ketbras[f'{kkey}_X_{bkey}'] = kets[kkey] * bras[bkey]\n",
    "\n",
    "# identity functions\n",
    "for state in atom_basis:\n",
    "    ketbras[f'{state}_id'] = tensor(fock_dm(NUM_ATOM, atom_basis[state]), qeye(NUM_POL))\n"
   ]
  },
  {
   "attachments": {},
   "cell_type": "markdown",
   "metadata": {},
   "source": [
    "### Parameters"
   ]
  },
  {
   "cell_type": "code",
   "execution_count": null,
   "metadata": {},
   "outputs": [],
   "source": [
    "STEPS_PER_SEC = 1000\n",
    "NUM_COOPS = 25\n",
    "NUM_TIMES = 25\n",
    "\n",
    "gamma = 2*np.pi * 1\n",
    "kappa = gamma * 1\n",
    "\n",
    "gmin = np.sqrt(gamma/(2*kappa))\n",
    "gmax = 10*np.sqrt(gamma/(2*kappa))\n",
    "g_ratios = [np.sqrt(0.5**2*gamma/(2*kappa))] + np.logspace(np.log10(gmin), np.log10(gmax), NUM_COOPS)\n",
    "\n",
    "t_min = -1\n",
    "t_max = 2*np.log10(2)\n",
    "times = np.logspace(t_min, t_max, NUM_TIMES)"
   ]
  },
  {
   "attachments": {},
   "cell_type": "markdown",
   "metadata": {},
   "source": [
    "### Efficiency Functions"
   ]
  },
  {
   "cell_type": "code",
   "execution_count": null,
   "metadata": {},
   "outputs": [],
   "source": [
    "def find_efficiency(g_ratio, omega, delta, pulse_time, psi0, pulse_shape, added_time=1):\n",
    "\n",
    "    time = pulse_time + added_time\n",
    "\n",
    "    omega *= 2*np.pi\n",
    "    delta *= 2*np.pi\n",
    "    g0 = g_ratio*gamma\n",
    "\n",
    "    H_args = {\n",
    "        'omega': omega,\n",
    "        'delta': delta,\n",
    "        'g0': g0,\n",
    "        'T': pulse_time,\n",
    "        'wSTIRAP': np.pi/pulse_time\n",
    "    }\n",
    "\n",
    "    global current_time\n",
    "    \n",
    "    if time != current_time:\n",
    "        rhs_clear()\n",
    "        opts.rhs_reuse = False\n",
    "        current_time = time\n",
    "\n",
    "    # define time steps\n",
    "    runtime = time/gamma\n",
    "    num_steps = round(STEPS_PER_SEC*runtime + 1)\n",
    "    if num_steps < 1001:\n",
    "        num_steps = 1001\n",
    "    \n",
    "    t_res = 2\n",
    "    int_time = round(runtime, t_res)*10**t_res\n",
    "    t = np.linspace(0, int_time, num_steps)\n",
    "    t /= 10**t_res\n",
    "\n",
    "    H0 = -(ketbras[])\n",
    "    H1 = -1/2*(ketbras['u_p0_X_x_p0'] + ketbras['x_p0_X_u_p0'])\n",
    "    H2 = ketbras['g_id'] + ketbras['u_id']\n",
    "\n",
    "    if pulse_shape == 'sin':\n",
    "        pulse = 'np.piecewise(t, [t<T], [omega*np.sin(wSTIRAP*t)**2])'\n",
    "\n",
    "    H=[[H0,'g0'], [H1, pulse], [H2, 'delta']]\n",
    "\n",
    "\n",
    "\n",
    "    "
   ]
  }
 ],
 "metadata": {
  "kernelspec": {
   "display_name": "Python 3",
   "language": "python",
   "name": "python3"
  },
  "language_info": {
   "codemirror_mode": {
    "name": "ipython",
    "version": 3
   },
   "file_extension": ".py",
   "mimetype": "text/x-python",
   "name": "python",
   "nbconvert_exporter": "python",
   "pygments_lexer": "ipython3",
   "version": "3.9.6"
  },
  "orig_nbformat": 4
 },
 "nbformat": 4,
 "nbformat_minor": 2
}
