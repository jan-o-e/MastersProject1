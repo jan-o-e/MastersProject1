{
 "cells": [
  {
   "cell_type": "code",
   "execution_count": 9,
   "metadata": {},
   "outputs": [],
   "source": [
    "from qutip import *\n",
    "import numpy as np\n",
    "import matplotlib.pyplot as plt"
   ]
  },
  {
   "cell_type": "code",
   "execution_count": 10,
   "metadata": {},
   "outputs": [],
   "source": [
    "E_LEVEL_FREQ = 10 * 2*np.pi\n",
    "U_LEVEL_FREQ = 5 * 2*np.pi\n",
    "G_LEVEL_FREQ = 2 * 2*np.pi"
   ]
  },
  {
   "cell_type": "code",
   "execution_count": 3,
   "metadata": {},
   "outputs": [],
   "source": [
    "def run_2lvl_simulation(initial_state, run_time, num_steps, g0, detuning=0, gamma=0, kappa=0):\n",
    "\n",
    "    # define characteristics of the atom-cavity system\n",
    "    e_freq = E_LEVEL_FREQ\n",
    "    g_freq = G_LEVEL_FREQ\n",
    "    cav_freq = e_freq - g_freq - detuning * 2*np.pi\n",
    "    num_photons = 1\n",
    "    \n",
    "    # define collapse operator associated with the cavity decay\n",
    "    photon_c_op = Qobj([\n",
    "        [0,1,0],\n",
    "        [0,0,0],\n",
    "        [0,0,0]\n",
    "        ])\n",
    "\n",
    "    # define the collapse operator associated with spontaneous decay of the excited state\n",
    "    atom_c_op = Qobj([\n",
    "        [0,0,1],\n",
    "        [0,0,0],\n",
    "        [0,0,0]\n",
    "        ])\n",
    "\n",
    "    # compile collapse operators into a list with appropriate coefficients\n",
    "    c_ops = [np.sqrt(kappa)*photon_c_op, np.sqrt(gamma)*atom_c_op]\n",
    "\n",
    "    # define Hamiltonian\n",
    "    H = Qobj([\n",
    "        [0,0,0],\n",
    "        [0, g_freq + num_photons*cav_freq , -g0],\n",
    "        [0, -g0, e_freq]])\n",
    "\n",
    "    # define time grid\n",
    "    t_steps = np.linspace(0, run_time, num_steps)\n",
    "\n",
    "    # check normalisation\n",
    "    norm = sum([abs(coeff)**2 for coeff in initial_state])\n",
    "    if norm != 1:\n",
    "        print('WARNING: unnormalised state')\n",
    "    \n",
    "    # calculate states that result from cavity dynamics\n",
    "    result = mesolve(H, initial_state, t_steps, c_ops, [])\n",
    "\n",
    "    # plot expectations of the measurements of each state\n",
    "    fig, axes = plt.subplots(1,1)\n",
    "\n",
    "    g_measure = Qobj([\n",
    "        [0,0,0],\n",
    "        [0,1,0],\n",
    "        [0,0,0]\n",
    "        ])\n",
    "    e_measure = Qobj([\n",
    "        [0,0,0],\n",
    "        [0,0,0],\n",
    "        [0,0,1]\n",
    "        ])\n",
    "\n",
    "    axes.plot(t_steps, expect(g_measure, result.states))\n",
    "    axes.plot(t_steps, expect(e_measure, result.states))\n",
    "    axes.set_xlabel('t')\n",
    "    axes.set_ylabel('Probability')\n",
    "\n",
    "    fig.legend(['g','e'])\n",
    "    return result.states\n"
   ]
  },
  {
   "cell_type": "code",
   "execution_count": 17,
   "metadata": {},
   "outputs": [],
   "source": [
    "def run_3lvl_simulation(initial_state, run_time, num_steps, g0, laser_profile, cav_detuning=0, gamma=0, kappa=0):\n",
    "\n",
    "    # define characteristic frequencies of the atom-cavity system\n",
    "    g_freq = G_LEVEL_FREQ\n",
    "    # e_freq = E_LEVEL_FREQ\n",
    "    # mid_freq = U_LEVEL_FREQ\n",
    "    e_freq = 1.5*g0\n",
    "    mid_freq = 0\n",
    "    \n",
    "    # define time grid\n",
    "    t_steps = np.linspace(0, run_time, num_steps)\n",
    "\n",
    "    # define time-independent part of tghe Hamiltonian\n",
    "    H0 = Qobj([\n",
    "        [0,0,0,0],\n",
    "        [0,cav_detuning * 2*np.pi, 0, -g0],\n",
    "        [0,0, e_freq - mid_freq, 0],\n",
    "        [0,-g0, 0, 0]\n",
    "    ])\n",
    "\n",
    "    H1 = Qobj([\n",
    "        [0,0,0,0],\n",
    "        [0,0,0,0],\n",
    "        [0,0,-1,-1/2],\n",
    "        [0,0,-1/2,0]\n",
    "    ])\n",
    "\n",
    "    H = [H0, [H1, laser_profile]]\n",
    "\n",
    "    cavity_c_op = Qobj([\n",
    "        [0,1,0,0],\n",
    "        [0,0,0,0],\n",
    "        [0,0,0,0],\n",
    "        [0,0,0,0]\n",
    "    ])\n",
    "\n",
    "    spont_c_op = Qobj([\n",
    "        [0,0,0,1],\n",
    "        [0,0,0,0],\n",
    "        [0,0,0,0],\n",
    "        [0,0,0,0]\n",
    "    ])\n",
    "\n",
    "    c_ops = [np.sqrt(kappa)*cavity_c_op, np.sqrt(gamma)*spont_c_op]\n",
    "    \n",
    "    result = mesolve(H, initial_state, t_steps, c_ops, [])\n",
    "\n",
    "    e_measure = fock_dm(4,3)\n",
    "    u_measure = fock_dm(4,2)\n",
    "    g_measure = fock_dm(4,1)\n",
    "\n",
    "    # plot expectations of the measurements of each state\n",
    "    fig, axes = plt.subplots(1,1)\n",
    "    axes.plot(t_steps, expect(g_measure, result.states))\n",
    "    axes.plot(t_steps, expect(u_measure, result.states))\n",
    "    axes.plot(t_steps, expect(e_measure, result.states))\n",
    "    \n",
    "    axes.set_xlabel('t')\n",
    "    axes.set_ylabel('Probability')\n",
    "\n",
    "    fig.legend(['g','u','e'])\n",
    "    return result.states\n",
    "    "
   ]
  },
  {
   "cell_type": "code",
   "execution_count": 18,
   "metadata": {},
   "outputs": [
    {
     "name": "stdout",
     "output_type": "stream",
     "text": [
      "Quantum object: dims = [[3], [1]], shape = (3, 1), type = ket\n",
      "Qobj data =\n",
      "[[0.]\n",
      " [0.]\n",
      " [1.]]\n"
     ]
    },
    {
     "ename": "NameError",
     "evalue": "name 'run_2lvl_simulation' is not defined",
     "output_type": "error",
     "traceback": [
      "\u001b[1;31m---------------------------------------------------------------------------\u001b[0m",
      "\u001b[1;31mNameError\u001b[0m                                 Traceback (most recent call last)",
      "\u001b[1;32m~\\AppData\\Local\\Temp/ipykernel_544/1031031217.py\u001b[0m in \u001b[0;36m<module>\u001b[1;34m\u001b[0m\n\u001b[0;32m      7\u001b[0m \u001b[1;33m\u001b[0m\u001b[0m\n\u001b[0;32m      8\u001b[0m \u001b[1;33m\u001b[0m\u001b[0m\n\u001b[1;32m----> 9\u001b[1;33m \u001b[0mstates\u001b[0m \u001b[1;33m=\u001b[0m \u001b[0mrun_2lvl_simulation\u001b[0m\u001b[1;33m(\u001b[0m\u001b[0mq\u001b[0m\u001b[1;33m,\u001b[0m \u001b[0mrun_time\u001b[0m\u001b[1;33m,\u001b[0m \u001b[0mnum_steps\u001b[0m\u001b[1;33m,\u001b[0m \u001b[0mg0\u001b[0m\u001b[1;33m,\u001b[0m \u001b[0mdetuning\u001b[0m\u001b[1;33m=\u001b[0m\u001b[1;36m0\u001b[0m\u001b[1;33m,\u001b[0m \u001b[0mgamma\u001b[0m\u001b[1;33m=\u001b[0m\u001b[1;36m0\u001b[0m\u001b[1;33m*\u001b[0m\u001b[1;36m2\u001b[0m\u001b[1;33m*\u001b[0m\u001b[0mnp\u001b[0m\u001b[1;33m.\u001b[0m\u001b[0mpi\u001b[0m\u001b[1;33m,\u001b[0m \u001b[0mkappa\u001b[0m\u001b[1;33m=\u001b[0m\u001b[1;36m0\u001b[0m\u001b[1;33m*\u001b[0m\u001b[1;36m2\u001b[0m\u001b[1;33m*\u001b[0m\u001b[0mnp\u001b[0m\u001b[1;33m.\u001b[0m\u001b[0mpi\u001b[0m\u001b[1;33m)\u001b[0m\u001b[1;33m\u001b[0m\u001b[1;33m\u001b[0m\u001b[0m\n\u001b[0m",
      "\u001b[1;31mNameError\u001b[0m: name 'run_2lvl_simulation' is not defined"
     ]
    }
   ],
   "source": [
    "q = basis(3,2)\n",
    "print(q)\n",
    "\n",
    "g0= 2*np.pi * 1\n",
    "num_steps = 101\n",
    "run_time = 1\n",
    "\n",
    "\n",
    "states = run_2lvl_simulation(q, run_time, num_steps, g0, detuning=0, gamma=0*2*np.pi, kappa=0*2*np.pi)\n"
   ]
  },
  {
   "cell_type": "code",
   "execution_count": 19,
   "metadata": {},
   "outputs": [
    {
     "name": "stdout",
     "output_type": "stream",
     "text": [
      "1.5606645551297988\n",
      "Quantum object: dims = [[4], [1]], shape = (4, 1), type = ket\n",
      "Qobj data =\n",
      "[[0.]\n",
      " [1.]\n",
      " [0.]\n",
      " [0.]]\n"
     ]
    },
    {
     "data": {
      "image/png": "[encoded data removed]",
      "text/plain": [
       "<Figure size 432x288 with 1 Axes>"
      ]
     },
     "metadata": {
      "needs_background": "light"
     },
     "output_type": "display_data"
    }
   ],
   "source": [
    "# define detuning of cavity mode\n",
    "delta_C = 0\n",
    "delta_L = 0\n",
    "\n",
    "# define cavity coupleing from input cavity detuning\n",
    "# g0= (E_LEVEL_FREQ - G_LEVEL_FREQ - delta_C *2*np.pi)/2\n",
    "# L_FREQ = (E_LEVEL_FREQ - U_LEVEL_FREQ - delta_L*2*np.pi)\n",
    "g0 = 2*np.pi\n",
    "L_FREQ = 1.5*g0\n",
    "\n",
    "num_steps = 1001\n",
    "run_time = 1\n",
    "gamma = 0.1*2*np.pi\n",
    "kappa = 1*2*np.pi\n",
    "theta = np.arctan(5*2*np.pi/2*g0)\n",
    "print(theta)\n",
    "\n",
    "sin_theta = np.sin(theta)\n",
    "cos_theta = np.cos(theta)\n",
    "# psi0 = 1*basis(4,2) - 3*L_FREQ/(2*g0)*basis(4,1)\n",
    "psi0 = basis(4,1)\n",
    "print(psi0)\n",
    "\n",
    "def laser_profile(t, arg):\n",
    "    # laser_freq = (5 - delta_L) * 2*np.pi * (sum([1/k*np.sin(k/2)*np.cos(2*np.pi*k*t) for k in range(1,400)]) +1/4)\n",
    "    laser_freq = L_FREQ\n",
    "    return laser_freq\n",
    "\n",
    "\n",
    "states = run_3lvl_simulation(psi0, run_time, num_steps, g0, laser_profile, cav_detuning=delta_C, gamma=gamma, kappa=kappa)\n"
   ]
  },
  {
   "cell_type": "code",
   "execution_count": 14,
   "metadata": {},
   "outputs": [
    {
     "name": "stdout",
     "output_type": "stream",
     "text": [
      "Quantum object: dims = [[3], [3]], shape = (3, 3), type = oper, isherm = True\n",
      "Qobj data =\n",
      "[[1. 0. 0.]\n",
      " [0. 0. 0.]\n",
      " [0. 0. 0.]]\n"
     ]
    }
   ],
   "source": [
    "from qutip import *\n",
    "print((basis(3,0)*basis(3,0).dag()))"
   ]
  },
  {
   "cell_type": "code",
   "execution_count": 8,
   "metadata": {},
   "outputs": [
    {
     "name": "stdout",
     "output_type": "stream",
     "text": [
      "1.4142135623730951\n"
     ]
    }
   ],
   "source": []
  },
  {
   "cell_type": "code",
   "execution_count": 7,
   "metadata": {},
   "outputs": [
    {
     "ename": "SyntaxError",
     "evalue": "invalid syntax (Temp/ipykernel_544/3983272627.py, line 1)",
     "output_type": "error",
     "traceback": [
      "\u001b[1;36m  File \u001b[1;32m\"C:\\Users\\reube\\AppData\\Local\\Temp/ipykernel_544/3983272627.py\"\u001b[1;36m, line \u001b[1;32m1\u001b[0m\n\u001b[1;33m    print(basis(3,:))\u001b[0m\n\u001b[1;37m                  ^\u001b[0m\n\u001b[1;31mSyntaxError\u001b[0m\u001b[1;31m:\u001b[0m invalid syntax\n"
     ]
    }
   ],
   "source": [
    "print(basis(3,:))"
   ]
  },
  {
   "cell_type": "code",
   "execution_count": null,
   "metadata": {},
   "outputs": [],
   "source": []
  }
 ],
 "metadata": {
  "kernelspec": {
   "display_name": "Python 3.9.6 64-bit",
   "language": "python",
   "name": "python3"
  },
  "language_info": {
   "codemirror_mode": {
    "name": "ipython",
    "version": 3
   },
   "file_extension": ".py",
   "mimetype": "text/x-python",
   "name": "python",
   "nbconvert_exporter": "python",
   "pygments_lexer": "ipython3",
   "version": "3.9.6"
  },
  "orig_nbformat": 4,
  "vscode": {
   "interpreter": {
    "hash": "dae3ac56776b7f0c13ff2a66c89e689a0c1b66778b6723adca803d3092fc66a4"
   }
  }
 },
 "nbformat": 4,
 "nbformat_minor": 2
}
