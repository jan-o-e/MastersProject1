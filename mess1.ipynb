{
 "cells": [
  {
   "cell_type": "code",
   "execution_count": 3,
   "metadata": {},
   "outputs": [],
   "source": [
    "from qutip import *\n",
    "import numpy as np\n",
    "import matplotlib.pyplot as plt\n"
   ]
  },
  {
   "cell_type": "code",
   "execution_count": 4,
   "metadata": {},
   "outputs": [],
   "source": [
    "N = 5\n",
    "x_ket = basis(N,0)\n",
    "y_ket = basis(N,1)\n",
    "z_ket = basis(N,2)\n",
    "a_ket = basis(N,3)\n",
    "b_ket = basis(N,4)\n",
    "\n",
    "x_bra = x_ket.dag()\n",
    "y_bra = y_ket.dag()\n",
    "z_bra = z_ket.dag()\n",
    "a_bra = a_ket.dag()\n",
    "b_bra = b_ket.dag()\n",
    "\n",
    "x_id = fock_dm(N, 0)\n",
    "y_id = fock_dm(N, 1)\n",
    "z_id = fock_dm(N,2)\n",
    "a_id = fock_dm(N, 3)\n",
    "b_id = fock_dm(N, 4)\n",
    "\n",
    "spont_collapse = b_ket*y_bra\n",
    "cav_collapse  = a_ket*x_bra\n",
    "\n",
    "g0 = 2*np.pi * 3\n",
    "rabi = 2*np.pi * 3\n",
    "gamma = 2*np.pi *0.1\n",
    "kappa = 2*np.pi *0.3\n",
    "delta = 2*np.pi * 0\n",
    "\n",
    "s1 = rabi\n",
    "c1 = 2*g0\n",
    "S2 = np.sqrt(4*g0**2+rabi**2)\n",
    "\n",
    "psi0 = c1*z_ket-s1*x_ket\n",
    "psi0 /= psi0.norm()\n",
    "psi1 = psi0 -4j*kappa*g0*rabi/(4*g0**2+rabi**2)*y_ket\n",
    "psi1 /= psi1.norm()\n",
    "\n",
    "theory_eff = 1/(1+16*gamma*g0**2*kappa/(4*g0**2+rabi**2)**2)\n",
    "\n",
    "H = -g0*(x_ket*y_bra + y_ket*x_bra) - rabi/2*(z_ket*y_bra + y_ket*z_bra)\n",
    "H1 = -g0*(x_ket*y_bra + y_ket*x_bra)\n",
    "H2 = -1/2*(z_ket*y_bra + y_ket*z_bra)\n",
    "H0 = [H1, [H2, 'omega']]\n",
    "H3 = [H1, [H2, 'np.piecewise(t, [t<switch_lim], [omega, 0])']]\n",
    "\n",
    "c_ops = [np.sqrt(gamma/2)*spont_collapse, np.sqrt(kappa/2)*cav_collapse]\n",
    "\n",
    "num_step = 10001\n",
    "time  = np.linspace(0,10,num_step)\n",
    "\n",
    "H_args = {'switch_lim': time[5009], 'omega': rabi}\n",
    "opts = Options(rhs_reuse=True)\n",
    "for i in range(180):\n",
    "    # result = mesolve(H0, psi1, time[:5010], c_ops,options = opts, args = H_args)\n",
    "    # H_args['omega'] = 0\n",
    "    # result2 = mesolve(H0, result.states[-1], time[5009:], c_ops, options=opts, args = H_args)\n",
    "    # H_args['omega'] = rabi\n",
    "    result3 = mesolve(H3, psi1, time, c_ops, args=H_args, options=opts)\n",
    "\n",
    "# rat_dat = [expect(z_id, state)/expect(x_id, state) for state in result.states]\n",
    "# rat_dat2 = [expect(y_id, state)/expect(x_id, state) for state in result.states]\n",
    "# eff_dat = []\n",
    "# for state in result.states:\n",
    "#     y_pop = expect(y_id, state)\n",
    "#     x_pop = expect(x_id, state)\n",
    "#     if x_pop == 0:\n",
    "#         eff_dat.append(0)\n",
    "#     else:\n",
    "#         eff_dat.append(1/(1+gamma*y_pop/(kappa*x_pop)))\n",
    "# plt.plot(time, rat_dat)\n",
    "# fig,ax = plt.subplots(1,2)\n",
    "# ax.plot(time, eff_dat)\n",
    "# ax.set_title('Approx Efficiency')\n",
    "# ax.set_xlabel('Time')\n",
    "# ax.set_ylabel('$\\eta$')\n"
   ]
  },
  {
   "cell_type": "code",
   "execution_count": 3,
   "metadata": {},
   "outputs": [
    {
     "ename": "NameError",
     "evalue": "name 'result3' is not defined",
     "output_type": "error",
     "traceback": [
      "\u001b[1;31m---------------------------------------------------------------------------\u001b[0m",
      "\u001b[1;31mNameError\u001b[0m                                 Traceback (most recent call last)",
      "\u001b[1;32m~\\AppData\\Local\\Temp/ipykernel_16468/4264390566.py\u001b[0m in \u001b[0;36m<module>\u001b[1;34m\u001b[0m\n\u001b[0;32m      2\u001b[0m \u001b[1;33m\u001b[0m\u001b[0m\n\u001b[0;32m      3\u001b[0m \u001b[0max\u001b[0m\u001b[1;33m.\u001b[0m\u001b[0mplot\u001b[0m\u001b[1;33m(\u001b[0m\u001b[0mtime\u001b[0m\u001b[1;33m[\u001b[0m\u001b[1;36m5009\u001b[0m\u001b[1;33m:\u001b[0m\u001b[1;36m5030\u001b[0m\u001b[1;33m]\u001b[0m\u001b[1;33m,\u001b[0m \u001b[0mexpect\u001b[0m\u001b[1;33m(\u001b[0m\u001b[0mx_id\u001b[0m\u001b[1;33m,\u001b[0m \u001b[0mresult2\u001b[0m\u001b[1;33m.\u001b[0m\u001b[0mstates\u001b[0m\u001b[1;33m)\u001b[0m\u001b[1;33m[\u001b[0m\u001b[1;33m:\u001b[0m\u001b[1;36m21\u001b[0m\u001b[1;33m]\u001b[0m\u001b[1;33m,\u001b[0m \u001b[1;34m'r'\u001b[0m\u001b[1;33m)\u001b[0m\u001b[1;33m\u001b[0m\u001b[1;33m\u001b[0m\u001b[0m\n\u001b[1;32m----> 4\u001b[1;33m \u001b[0max\u001b[0m\u001b[1;33m.\u001b[0m\u001b[0mplot\u001b[0m\u001b[1;33m(\u001b[0m\u001b[0mtime\u001b[0m\u001b[1;33m[\u001b[0m\u001b[1;36m4950\u001b[0m\u001b[1;33m:\u001b[0m\u001b[1;36m5030\u001b[0m\u001b[1;33m]\u001b[0m\u001b[1;33m,\u001b[0m \u001b[0mexpect\u001b[0m\u001b[1;33m(\u001b[0m\u001b[0mx_id\u001b[0m\u001b[1;33m,\u001b[0m \u001b[0mresult3\u001b[0m\u001b[1;33m.\u001b[0m\u001b[0mstates\u001b[0m\u001b[1;33m)\u001b[0m\u001b[1;33m[\u001b[0m\u001b[1;36m4950\u001b[0m\u001b[1;33m:\u001b[0m\u001b[1;36m5030\u001b[0m\u001b[1;33m]\u001b[0m\u001b[1;33m)\u001b[0m\u001b[1;33m\u001b[0m\u001b[1;33m\u001b[0m\u001b[0m\n\u001b[0m\u001b[0;32m      5\u001b[0m \u001b[0max\u001b[0m\u001b[1;33m.\u001b[0m\u001b[0mplot\u001b[0m\u001b[1;33m(\u001b[0m\u001b[0mtime\u001b[0m\u001b[1;33m[\u001b[0m\u001b[1;36m4950\u001b[0m\u001b[1;33m:\u001b[0m\u001b[1;36m5010\u001b[0m\u001b[1;33m]\u001b[0m\u001b[1;33m,\u001b[0m \u001b[0mexpect\u001b[0m\u001b[1;33m(\u001b[0m\u001b[0mx_id\u001b[0m\u001b[1;33m,\u001b[0m \u001b[0mresult\u001b[0m\u001b[1;33m.\u001b[0m\u001b[0mstates\u001b[0m\u001b[1;33m)\u001b[0m\u001b[1;33m[\u001b[0m\u001b[1;36m4950\u001b[0m\u001b[1;33m:\u001b[0m\u001b[1;36m5010\u001b[0m\u001b[1;33m]\u001b[0m\u001b[1;33m,\u001b[0m \u001b[1;34m'r'\u001b[0m\u001b[1;33m)\u001b[0m\u001b[1;33m\u001b[0m\u001b[1;33m\u001b[0m\u001b[0m\n\u001b[0;32m      6\u001b[0m \u001b[0mfig\u001b[0m\u001b[1;33m.\u001b[0m\u001b[0mset_size_inches\u001b[0m\u001b[1;33m(\u001b[0m\u001b[1;36m17\u001b[0m\u001b[1;33m,\u001b[0m\u001b[1;36m8\u001b[0m\u001b[1;33m)\u001b[0m\u001b[1;33m\u001b[0m\u001b[1;33m\u001b[0m\u001b[0m\n",
      "\u001b[1;31mNameError\u001b[0m: name 'result3' is not defined"
     ]
    },
    {
     "data": {
      "image/png": "[encoded data removed]",
      "text/plain": [
       "<Figure size 432x288 with 1 Axes>"
      ]
     },
     "metadata": {
      "needs_background": "light"
     },
     "output_type": "display_data"
    }
   ],
   "source": [
    "fig, ax = plt.subplots(1,1)\n",
    "\n",
    "ax.plot(time[5009:5030], expect(x_id, result2.states)[:21], 'r')\n",
    "ax.plot(time[4950:5030], expect(x_id, result3.states)[4950:5030])\n",
    "ax.plot(time[4950:5010], expect(x_id, result.states)[4950:5010], 'r')\n",
    "fig.set_size_inches(17,8)\n"
   ]
  },
  {
   "cell_type": "code",
   "execution_count": null,
   "metadata": {},
   "outputs": [
    {
     "name": "stdout",
     "output_type": "stream",
     "text": [
      "[0.5   0.501]\n"
     ]
    }
   ],
   "source": [
    "print(time[500:502])"
   ]
  },
  {
   "cell_type": "code",
   "execution_count": null,
   "metadata": {},
   "outputs": [],
   "source": []
  }
 ],
 "metadata": {
  "kernelspec": {
   "display_name": "Python 3",
   "language": "python",
   "name": "python3"
  },
  "language_info": {
   "codemirror_mode": {
    "name": "ipython",
    "version": 3
   },
   "file_extension": ".py",
   "mimetype": "text/x-python",
   "name": "python",
   "nbconvert_exporter": "python",
   "pygments_lexer": "ipython3",
   "version": "3.9.6"
  },
  "orig_nbformat": 4,
  "vscode": {
   "interpreter": {
    "hash": "dae3ac56776b7f0c13ff2a66c89e689a0c1b66778b6723adca803d3092fc66a4"
   }
  }
 },
 "nbformat": 4,
 "nbformat_minor": 2
}
