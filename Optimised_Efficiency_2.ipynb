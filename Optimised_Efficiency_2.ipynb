{
 "cells": [
  {
   "attachments": {},
   "cell_type": "markdown",
   "metadata": {},
   "source": [
    "### Hilbert Space"
   ]
  },
  {
   "cell_type": "code",
   "execution_count": 1,
   "metadata": {},
   "outputs": [],
   "source": [
    "from qutip import *\n",
    "import numpy as np\n",
    "import scipy.optimize as sciop\n",
    "import matplotlib.pyplot as plt\n",
    "import cython\n",
    "\n",
    "# define idealised basis\n",
    "basis_labels = {\n",
    "    'cav_bin': 0,\n",
    "    'spont_bin': 1,\n",
    "    'g':2,\n",
    "    'u':3,\n",
    "    'x':4\n",
    "}\n",
    "N=len(basis_labels)\n",
    "\n",
    "g_ket = basis(N, basis_labels['g'])\n",
    "u_ket = basis(N, basis_labels['u'])\n",
    "x_ket = basis(N, basis_labels['x'])\n",
    "\n",
    "# define basic operators\n",
    "gx_swap = basis(N, basis_labels['g']) * basis(N, basis_labels['x']).dag()\n",
    "ux_swap = basis(N, basis_labels['u']) * basis(N, basis_labels['x']).dag()\n",
    "\n",
    "g_id = fock_dm(N, basis_labels['g'])\n",
    "u_id = fock_dm(N, basis_labels['u'])\n",
    "x_id = fock_dm(N, basis_labels['x'])\n",
    "cav_id = fock_dm(N, basis_labels['cav_bin'])\n",
    "spont_id = fock_dm(N, basis_labels['spont_bin'])\n",
    "\n",
    "cav_decay = basis(N, basis_labels['cav_bin']) * basis(N, basis_labels['g']).dag()\n",
    "spont_decay = basis(N, basis_labels['spont_bin']) * basis(N, basis_labels['x']).dag()"
   ]
  },
  {
   "attachments": {},
   "cell_type": "markdown",
   "metadata": {},
   "source": [
    "## Parameters"
   ]
  },
  {
   "cell_type": "code",
   "execution_count": 2,
   "metadata": {},
   "outputs": [],
   "source": [
    "delta_stirap = 1\n",
    "delta_C = delta_stirap\n",
    "delta_L = delta_stirap\n",
    "\n",
    "gamma = 0.1\n",
    "kappa = gamma*10\n",
    "\n",
    "coops = [0.5] + list(np.logspace(1,np.log10(50), 10)) + list(np.linspace(60, 150, 10))\n",
    "\n",
    "\n",
    "RUNTIME = 0.1/gamma\n",
    "STEPS_PER_SEC = 1000\n",
    "NUM_STEPS = round(STEPS_PER_SEC*RUNTIME + 1)\n",
    "if type(RUNTIME) == float:\n",
    "    if RUNTIME < 1:\n",
    "        lin_factor = 1/RUNTIME\n",
    "        RUNTIME = lin_factor*RUNTIME\n",
    "    else:\n",
    "        lin_factor = 10\n",
    "        RUNTIME = np.ceil(RUNTIME*10)\n",
    "t = np.linspace(0, int(RUNTIME), NUM_STEPS)\n",
    "t /= lin_factor\n",
    "\n",
    "# define pulse shape\n",
    "wSTIRAP = np.pi/RUNTIME\n",
    "H_args = {\n",
    "    'wSTIRAP': wSTIRAP\n",
    "}\n",
    "flat_pulse = '1'\n",
    "sin_pulse = 'np.sin(wSTIRAP*t)**2'\n",
    "\n",
    "c_ops = [np.sqrt(gamma)*spont_decay, np.sqrt(kappa)*cav_decay]"
   ]
  },
  {
   "attachments": {},
   "cell_type": "markdown",
   "metadata": {},
   "source": [
    "### Efficiency Functions"
   ]
  },
  {
   "cell_type": "code",
   "execution_count": 3,
   "metadata": {},
   "outputs": [],
   "source": [
    "def find_efficiency(omega, cooperativity, psi0=u_ket, pulse_shape=sin_pulse):\n",
    "\n",
    "    g0 = (kappa*gamma*cooperativity)**0.5\n",
    "\n",
    "    theta = np.arctan(omega/2*g0)\n",
    "\n",
    "    H0 = delta_C*g_id + delta_L*u_id - g0*(gx_swap + gx_swap.dag())\n",
    "    H1 = -omega/2*(ux_swap + ux_swap.dag())\n",
    "    H=[H0, [H1, pulse_shape]]\n",
    "\n",
    "    result = mesolve(H, psi0, t, c_ops, [], args=H_args)\n",
    "\n",
    "    photon_emission_prob = expect(cav_id, result.states[-1])\n",
    "    spont_decay_prob = expect(spont_id, result.states[-1])\n",
    "\n",
    "    return photon_emission_prob/(photon_emission_prob + spont_decay_prob)\n",
    "\n",
    "\n",
    "def find_neg_efficiency(omega, cooperativity, psi0=u_ket, pulse_shape=sin_pulse):\n",
    "\n",
    "    g0 = (kappa*gamma*cooperativity)**0.5\n",
    "\n",
    "    theta = np.arctan(omega/2*g0)\n",
    "\n",
    "    H0 = delta_C*g_id + delta_L*u_id - g0*(gx_swap + gx_swap.dag())\n",
    "    H1 = -omega/2*(ux_swap + ux_swap.dag())\n",
    "    H=[H0, [H1, pulse_shape]]\n",
    "\n",
    "    result = mesolve(H, psi0, t, c_ops, [], args=H_args)\n",
    "\n",
    "    photon_emission_prob = expect(cav_id, result.states[-1])\n",
    "    spont_decay_prob = expect(spont_id, result.states[-1])\n",
    "\n",
    "    return -photon_emission_prob/(photon_emission_prob + spont_decay_prob)\n"
   ]
  },
  {
   "cell_type": "code",
   "execution_count": 4,
   "metadata": {},
   "outputs": [],
   "source": [
    "def optimise_peak_rabi(cooperativity, omega_guess):\n",
    "\n",
    "    sciop.minimize(find_neg_efficiency, [omega_guess, args=(cooperativity,))"
   ]
  },
  {
   "cell_type": "code",
   "execution_count": 9,
   "metadata": {},
   "outputs": [
    {
     "name": "stdout",
     "output_type": "stream",
     "text": [
      "0\n",
      "1\n",
      "2\n",
      "3\n",
      "4\n",
      "5\n",
      "6\n",
      "7\n",
      "8\n",
      "9\n"
     ]
    }
   ],
   "source": [
    "test_coop = 2000\n",
    "omegas = np.linspace(10, 1000, 10)\n",
    "\n",
    "omg_effs = []\n",
    "i=0\n",
    "for omg in omegas:\n",
    "    print(i)\n",
    "    omg_effs.append(find_efficiency(omg, test_coop))\n",
    "    i += 1"
   ]
  },
  {
   "cell_type": "code",
   "execution_count": 10,
   "metadata": {},
   "outputs": [
    {
     "name": "stdout",
     "output_type": "stream",
     "text": [
      "0\n",
      "1\n",
      "2\n",
      "3\n",
      "4\n",
      "5\n",
      "6\n",
      "7\n",
      "8\n",
      "9\n"
     ]
    }
   ],
   "source": [
    "test_coop = 1000\n",
    "omegas = np.linspace(10, 1000, 10)\n",
    "\n",
    "omg_effs2 = []\n",
    "i=0\n",
    "for omg in omegas:\n",
    "    print(i)\n",
    "    omg_effs2.append(find_efficiency(omg, test_coop))\n",
    "    i += 1"
   ]
  },
  {
   "cell_type": "code",
   "execution_count": 12,
   "metadata": {},
   "outputs": [
    {
     "data": {
      "text/plain": [
       "<matplotlib.legend.Legend at 0x240236acc40>"
      ]
     },
     "execution_count": 12,
     "metadata": {},
     "output_type": "execute_result"
    },
    {
     "data": {
      "image/png": "[encoded data removed]",
      "text/plain": [
       "<Figure size 432x288 with 1 Axes>"
      ]
     },
     "metadata": {
      "needs_background": "light"
     },
     "output_type": "display_data"
    }
   ],
   "source": [
    "fig, axes = plt.subplots(1,1)\n",
    "axes.plot(omegas, omg_effs2)\n",
    "axes.plot(omegas, omg_effs)\n",
    "fig.legend(['1000', '2000'])\n",
    "# axes.set_xbound(0,900)"
   ]
  },
  {
   "cell_type": "code",
   "execution_count": null,
   "metadata": {},
   "outputs": [],
   "source": []
  }
 ],
 "metadata": {
  "kernelspec": {
   "display_name": "Python 3",
   "language": "python",
   "name": "python3"
  },
  "language_info": {
   "codemirror_mode": {
    "name": "ipython",
    "version": 3
   },
   "file_extension": ".py",
   "mimetype": "text/x-python",
   "name": "python",
   "nbconvert_exporter": "python",
   "pygments_lexer": "ipython3",
   "version": "3.9.6"
  },
  "orig_nbformat": 4,
  "vscode": {
   "interpreter": {
    "hash": "dae3ac56776b7f0c13ff2a66c89e689a0c1b66778b6723adca803d3092fc66a4"
   }
  }
 },
 "nbformat": 4,
 "nbformat_minor": 2
}
