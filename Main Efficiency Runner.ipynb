{
 "cells": [
  {
   "attachments": {},
   "cell_type": "markdown",
   "metadata": {},
   "source": [
    "### Simplified Hilbert Space"
   ]
  },
  {
   "cell_type": "code",
   "execution_count": null,
   "metadata": {},
   "outputs": [],
   "source": [
    "from qutip import *\n",
    "import numpy as np\n",
    "import scipy.optimize as sciop\n",
    "import matplotlib.pyplot as plt\n",
    "import cython\n",
    "import skopt\n",
    "\n",
    "# define idealised basis\n",
    "basis_labels = {\n",
    "    'cav_bin': 0,\n",
    "    'spont_bin': 1,\n",
    "    'g':2,\n",
    "    'u':3,\n",
    "    'x':4\n",
    "}\n",
    "N=len(basis_labels)\n",
    "\n",
    "g_ket = basis(N, basis_labels['g'])\n",
    "u_ket = basis(N, basis_labels['u'])\n",
    "x_ket = basis(N, basis_labels['x'])\n",
    "\n",
    "# define basic operators\n",
    "gx_swap = basis(N, basis_labels['g']) * basis(N, basis_labels['x']).dag()\n",
    "ux_swap = basis(N, basis_labels['u']) * basis(N, basis_labels['x']).dag()\n",
    "\n",
    "g_id = fock_dm(N, basis_labels['g'])\n",
    "u_id = fock_dm(N, basis_labels['u'])\n",
    "x_id = fock_dm(N, basis_labels['x'])\n",
    "cav_id = fock_dm(N, basis_labels['cav_bin'])\n",
    "spont_id = fock_dm(N, basis_labels['spont_bin'])\n",
    "\n",
    "cav_decay = basis(N, basis_labels['cav_bin']) * basis(N, basis_labels['g']).dag()\n",
    "spont_decay = basis(N, basis_labels['spont_bin']) * basis(N, basis_labels['x']).dag()"
   ]
  },
  {
   "attachments": {},
   "cell_type": "markdown",
   "metadata": {},
   "source": [
    "### Parameters"
   ]
  },
  {
   "cell_type": "code",
   "execution_count": null,
   "metadata": {},
   "outputs": [],
   "source": [
    "delta_stirap = 1\n",
    "delta_C = delta_stirap\n",
    "delta_L = delta_stirap\n",
    "\n",
    "gamma = 1\n",
    "kappa = gamma*1\n",
    "\n",
    "coops = [2,5,10,20,50,100,125,150,200, 300]\n",
    "omg_guesses = [238,238,238,234,230,226,225,223,220,219]\n",
    "\n",
    "\n",
    "RUNTIME = 1/gamma\n",
    "STEPS_PER_SEC = 1000\n",
    "NUM_STEPS = round(STEPS_PER_SEC*RUNTIME + 1)\n",
    "if type(RUNTIME) == float:\n",
    "    if RUNTIME < 1:\n",
    "        lin_factor = 1/RUNTIME\n",
    "        RUNTIME = lin_factor*RUNTIME\n",
    "    else:\n",
    "        lin_factor = 10\n",
    "        RUNTIME = np.ceil(RUNTIME*10)\n",
    "t = np.linspace(0, int(RUNTIME), NUM_STEPS)\n",
    "t /= lin_factor\n",
    "\n",
    "print(t)\n",
    "# define pulse shape\n",
    "wSTIRAP = np.pi/RUNTIME\n",
    "H_args = {\n",
    "    'wSTIRAP': wSTIRAP\n",
    "}\n",
    "flat_pulse = '1'\n",
    "sin_pulse = 'np.sin(wSTIRAP*t)**2'\n",
    "\n",
    "c_ops = [np.sqrt(gamma)*spont_decay, np.sqrt(kappa)*cav_decay]"
   ]
  },
  {
   "attachments": {},
   "cell_type": "markdown",
   "metadata": {},
   "source": [
    "### Efficiency Functions"
   ]
  },
  {
   "cell_type": "code",
   "execution_count": null,
   "metadata": {},
   "outputs": [],
   "source": [
    "def find_efficiency(omega, delta, cooperativity, psi0=u_ket, pulse_shape=sin_pulse):\n",
    "\n",
    "    g0 = (kappa*gamma*cooperativity)**0.5\n",
    "\n",
    "    theta = np.arctan(omega/2*g0)\n",
    "\n",
    "    H0 = delta*g_id + delta*u_id - g0*(gx_swap + gx_swap.dag())\n",
    "    H1 = -omega/2*(ux_swap + ux_swap.dag())\n",
    "    H=[H0, [H1, pulse_shape]]\n",
    "\n",
    "    result = mesolve(H, psi0, t, c_ops, [], args=H_args)\n",
    "\n",
    "    photon_emission_prob = expect(cav_id, result.states[-1])\n",
    "    spont_decay_prob = expect(spont_id, result.states[-1])\n",
    "    # print(f'norm: {photon_emission_prob + spont_decay_prob}')\n",
    "\n",
    "    return photon_emission_prob/(photon_emission_prob + spont_decay_prob)\n"
   ]
  },
  {
   "attachments": {},
   "cell_type": "markdown",
   "metadata": {},
   "source": [
    "### Optimisation"
   ]
  },
  {
   "cell_type": "code",
   "execution_count": null,
   "metadata": {},
   "outputs": [],
   "source": [
    "max_delta = 50\n",
    "\n",
    "def optimise_peak_rabi(cooperativity, omega_guess, delta_guess):\n",
    "\n",
    "    def find_neg_efficiency(omega_delta, psi0=u_ket, pulse_shape=sin_pulse):\n",
    "\n",
    "        omg = omega_delta[0]\n",
    "        delta = omega_delta[1]\n",
    "\n",
    "        g0 = (kappa*gamma*cooperativity)**0.5\n",
    "\n",
    "        H0 = delta*g_id + delta*u_id - g0*(gx_swap + gx_swap.dag())\n",
    "        H1 = -omg/2*(ux_swap + ux_swap.dag())\n",
    "        H=[H0, [H1, pulse_shape]]\n",
    "\n",
    "        result = mesolve(H, psi0, t, c_ops, [], args=H_args)\n",
    "\n",
    "        photon_emission_prob = expect(cav_id, result.states[-1])\n",
    "        spont_decay_prob = expect(spont_id, result.states[-1])\n",
    "\n",
    "        return -photon_emission_prob/(photon_emission_prob + spont_decay_prob)\n",
    "\n",
    "    \n",
    "    return skopt.gp_minimize(find_neg_efficiency, [[omega_guess/5, 5*omega_guess], [0, max_delta]],x0=[omega_guess, delta_guess], n_calls=50)"
   ]
  },
  {
   "cell_type": "code",
   "execution_count": null,
   "metadata": {},
   "outputs": [],
   "source": [
    "opt_results = []\n",
    "bench1 = []\n",
    "for C in coops:\n",
    "    opt_results.append(optimise_peak_rabi(C, omg_guesses[coops.index(C)], 0))\n",
    "    bench1.append(2*C/(2*C+1))"
   ]
  },
  {
   "attachments": {},
   "cell_type": "markdown",
   "metadata": {},
   "source": [
    "### Data Extraction"
   ]
  },
  {
   "cell_type": "code",
   "execution_count": null,
   "metadata": {},
   "outputs": [],
   "source": [
    "opt_omgs = []\n",
    "opt_delts = []\n",
    "opt_effs = []\n",
    "\n",
    "i = 0\n",
    "for result in opt_results:\n",
    "    opt_omgs.append(result.x[0])\n",
    "    opt_delts.append(result.x[1])\n",
    "    opt_effs.append(-result.fun)\n",
    "    if result.x[1] > max_delta - 1:\n",
    "        print(f'Delta optimisation failed for C = {coops[i]}')\n",
    "    i += 1"
   ]
  },
  {
   "attachments": {},
   "cell_type": "markdown",
   "metadata": {},
   "source": [
    "### Plots"
   ]
  },
  {
   "cell_type": "code",
   "execution_count": null,
   "metadata": {},
   "outputs": [],
   "source": [
    "fig, axes = plt.subplots(1,1)\n",
    "axes.plot(coops, opt_omgs)\n",
    "axes.set_xlabel('C')\n",
    "axes.set_ylabel('$\\Omega_P$')\n",
    "\n",
    "fig, axes = plt.subplots(1,1)\n",
    "axes.plot(coops, opt_effs)\n",
    "axes.set_xlabel('C')\n",
    "axes.set_ylabel('Efficiency')"
   ]
  }
 ],
 "metadata": {
  "kernelspec": {
   "display_name": "Python 3",
   "language": "python",
   "name": "python3"
  },
  "language_info": {
   "name": "python",
   "version": "3.9.6"
  },
  "orig_nbformat": 4,
  "vscode": {
   "interpreter": {
    "hash": "dae3ac56776b7f0c13ff2a66c89e689a0c1b66778b6723adca803d3092fc66a4"
   }
  }
 },
 "nbformat": 4,
 "nbformat_minor": 2
}
